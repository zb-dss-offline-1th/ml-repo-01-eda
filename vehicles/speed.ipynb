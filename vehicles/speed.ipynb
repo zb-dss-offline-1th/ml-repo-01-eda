{
 "cells": [
  {
   "cell_type": "markdown",
   "metadata": {},
   "source": [
    "#### 라이브러리 불러오기"
   ]
  },
  {
   "cell_type": "code",
   "execution_count": 1,
   "metadata": {},
   "outputs": [],
   "source": [
    "import pandas as pd\n",
    "import matplotlib.pyplot as plt\n",
    "\n",
    "# 모든 행과 열을 확인하고 싶으면 다음의 주석을 해제하면 됩니다.\n",
    "# pd.set_option(\"display.max_columns\", None)\n",
    "# pd.set_option(\"display.max_rows\", None)"
   ]
  },
  {
   "cell_type": "markdown",
   "metadata": {},
   "source": [
    "#### 데이터 불러오기"
   ]
  },
  {
   "cell_type": "code",
   "execution_count": 2,
   "metadata": {},
   "outputs": [],
   "source": [
    "# 데이터 경로 지정\n",
    "path_month_4 = \"/Users/zaewoo/Downloads/서울시교통관련데이터/차량통행속도/2022년 4월 서울시 차량통행속도.xlsx\"\n",
    "path_month_5 = \"/Users/zaewoo/Downloads/서울시교통관련데이터/차량통행속도/2022년 5월 서울시 차량통행속도.xlsx\"\n",
    "\n",
    "# 데이터 불러오기\n",
    "df_month_4 = pd.read_excel(path_month_4)\n",
    "df_month_5 = pd.read_excel(path_month_5)"
   ]
  },
  {
   "cell_type": "markdown",
   "metadata": {},
   "source": [
    "#### 데이터 전처리"
   ]
  },
  {
   "cell_type": "code",
   "execution_count": 3,
   "metadata": {},
   "outputs": [],
   "source": [
    "# 탐색 구간 지정\n",
    "\n",
    "# 4월\n",
    "df_month_4 = df_month_4.loc[((df_month_4[\"시점명\"]==\"한강대교남단교차로\") &\n",
    "                            (df_month_4[\"종점명\"]==\"한강대교북단교차로\")) | \n",
    "                            ((df_month_4[\"시점명\"]==\"동작대교남단\") &\n",
    "                            (df_month_4[\"종점명\"]==\"동작대교북단\")) |  \n",
    "                            ((df_month_4[\"시점명\"]==\"반포대교남단\") &\n",
    "                            (df_month_4[\"종점명\"]==\"반포대교북단\")) | \n",
    "                            ((df_month_4[\"시점명\"]==\"한남대교남단\") & \n",
    "                            (df_month_4[\"종점명\"]==\"한남대교북단\"))]\n",
    "\n",
    "# 5월\n",
    "df_month_5 = df_month_5.loc[((df_month_5[\"시점명\"]==\"한강대교남단교차로\") &\n",
    "                            (df_month_5[\"종점명\"]==\"한강대교북단교차로\")) | \n",
    "                            ((df_month_5[\"시점명\"]==\"동작대교남단\") &\n",
    "                            (df_month_5[\"종점명\"]==\"동작대교북단\")) |  \n",
    "                            ((df_month_5[\"시점명\"]==\"반포대교남단\") &\n",
    "                            (df_month_5[\"종점명\"]==\"반포대교북단\")) | \n",
    "                            ((df_month_5[\"시점명\"]==\"한남대교남단\") & \n",
    "                            (df_month_5[\"종점명\"]==\"한남대교북단\"))]"
   ]
  },
  {
   "cell_type": "code",
   "execution_count": 4,
   "metadata": {},
   "outputs": [],
   "source": [
    "# 탐색 일자 지정\n",
    "df_month_4 = df_month_4.loc[(df_month_4[\"일자\"] > 20220419)]\n",
    "df_month_5 = df_month_5.loc[(df_month_5[\"일자\"] < 20220521)]"
   ]
  },
  {
   "cell_type": "code",
   "execution_count": 5,
   "metadata": {},
   "outputs": [],
   "source": [
    "# 탐색 요일 지정\n",
    "df_month_4 = df_month_4.loc[(df_month_4[\"요일\"] != \"토\") & (df_month_4[\"요일\"] != \"일\")]\n",
    "df_month_5 = df_month_5.loc[(df_month_5[\"요일\"] != \"토\") & (df_month_5[\"요일\"] != \"일\")]\n",
    "\n",
    "data = pd.concat([df_month_4, df_month_5])"
   ]
  },
  {
   "cell_type": "code",
   "execution_count": 6,
   "metadata": {},
   "outputs": [],
   "source": [
    "# 탐색 구간 별 분석을 위하여 다음과 같이 분류하였습니다.\n",
    "\n",
    "# 한강대교\n",
    "hangang_month_4 = df_month_4[df_month_4[\"시점명\"] == \"한강대교남단교차로\"]\n",
    "hangang_month_5 = df_month_5[df_month_5[\"시점명\"] == \"한강대교남단교차로\"]\n",
    "hangang = pd.concat([hangang_month_4, hangang_month_5])\n",
    "\n",
    "# 한강대교 - 탐색 시간 지정\n",
    "hangang_month_4 = hangang_month_4[[\"08시\", \"09시\", \"10시\"]]\n",
    "hangang_month_5 = hangang_month_5[[\"08시\", \"09시\", \"10시\"]]\n",
    "hangang = hangang[[\"08시\", \"09시\", \"10시\"]]\n",
    "\n",
    "# 동작대교\n",
    "dongjak_month_4 = df_month_4[df_month_4[\"시점명\"] == \"동작대교남단\"]\n",
    "dongjak_month_5 = df_month_5[df_month_5[\"시점명\"] == \"동작대교남단\"]\n",
    "dongjak = pd.concat([dongjak_month_4, dongjak_month_5])\n",
    "\n",
    "# 동작대교 - 탐색 시간 지정\n",
    "dongjak_month_4 = dongjak_month_4[[\"08시\", \"09시\", \"10시\"]]\n",
    "dongjak_month_5 = dongjak_month_5[[\"08시\", \"09시\", \"10시\"]]\n",
    "dongjak = dongjak[[\"08시\", \"09시\", \"10시\"]]\n",
    "\n",
    "# 반포대교\n",
    "banpo_month_4 = df_month_4[df_month_4[\"시점명\"] == \"반포대교남단\"]\n",
    "banpo_month_5 = df_month_5[df_month_5[\"시점명\"] == \"반포대교남단\"]\n",
    "banpo = pd.concat([banpo_month_4, banpo_month_5])\n",
    "\n",
    "# 반포대교 - 탐색 시간 지정\n",
    "banpo_month_4 = banpo_month_4[[\"08시\", \"09시\", \"10시\"]]\n",
    "banpo_month_5 = banpo_month_5[[\"08시\", \"09시\", \"10시\"]]\n",
    "banpo = banpo[[\"08시\", \"09시\", \"10시\"]]\n",
    "\n",
    "# 한남대교\n",
    "hannam_month_4 = df_month_4[df_month_4[\"시점명\"] == \"한남대교남단\"]\n",
    "hannam_month_5 = df_month_5[df_month_5[\"시점명\"] == \"한남대교남단\"]\n",
    "hannam = pd.concat([hannam_month_4, hannam_month_5])\n",
    "\n",
    "# 한남대교 - 탐색 시간 지정\n",
    "hannam_month_4 = hannam_month_4[[\"08시\", \"09시\", \"10시\"]]\n",
    "hannam_month_5 = hannam_month_5[[\"08시\", \"09시\", \"10시\"]]\n",
    "hannam = hannam[[\"08시\", \"09시\", \"10시\"]]\n",
    "\n",
    "# 잠수교\n",
    "# jamsu_month_4 = df_month_4.loc[df_month_4[\"지점명\"] == \"잠수교\"]\n",
    "# jamsu_month_5 = df_month_5.loc[df_month_5[\"지점명\"] == \"잠수교\"]\n",
    "# jamsu = pd.concat([jamsu_month_4, jamsu_month_5])\n",
    "\n",
    "# 잠수교 - 탐색 시간 지정\n",
    "# jamsu_month_4 = jamsu_month_4[[\"8시\", \"9시\", \"10시\"]]\n",
    "# jamsu_month_5 = jamsu_month_5[[\"8시\", \"9시\", \"10시\"]]\n",
    "# jamsu = hangang[[\"8시\", \"9시\", \"10시\"]]"
   ]
  },
  {
   "cell_type": "code",
   "execution_count": 14,
   "metadata": {},
   "outputs": [],
   "source": [
    "# 탐색 시간 지정\n",
    "data = data[[\"08시\", \"09시\", \"10시\"]]\n",
    "df_month_4 = df_month_4[[\"08시\", \"09시\", \"10시\"]]\n",
    "df_month_5 = df_month_5[[\"08시\", \"09시\", \"10시\"]]"
   ]
  },
  {
   "cell_type": "markdown",
   "metadata": {},
   "source": [
    "#### 결과 확인"
   ]
  },
  {
   "cell_type": "code",
   "execution_count": 15,
   "metadata": {},
   "outputs": [
    {
     "name": "stdout",
     "output_type": "stream",
     "text": [
      "08시    43.054457\n",
      "09시    35.636630\n",
      "10시    38.232609\n",
      "dtype: float64\n",
      "08시    42.061250\n",
      "09시    34.160938\n",
      "10시    37.095312\n",
      "dtype: float64\n",
      "08시    43.584167\n",
      "09시    36.423667\n",
      "10시    38.839167\n",
      "dtype: float64\n"
     ]
    }
   ],
   "source": [
    "# 전체 데이터의 결과 수치 확인\n",
    "print(data.mean())\n",
    "print(df_month_4.mean())\n",
    "print(df_month_5.mean())"
   ]
  },
  {
   "cell_type": "code",
   "execution_count": 16,
   "metadata": {},
   "outputs": [
    {
     "name": "stdout",
     "output_type": "stream",
     "text": [
      "AxesSubplot(0.125,0.536818;0.227941x0.343182)\n",
      "AxesSubplot(0.398529,0.536818;0.227941x0.343182)\n",
      "AxesSubplot(0.672059,0.536818;0.227941x0.343182)\n"
     ]
    },
    {
     "name": "stderr",
     "output_type": "stream",
     "text": [
      "/Users/zaewoo/miniforge3/envs/workspace/lib/python3.8/site-packages/IPython/core/pylabtools.py:151: UserWarning: Glyph 49884 (\\N{HANGUL SYLLABLE SI}) missing from current font.\n",
      "  fig.canvas.print_figure(bytes_io, **kw)\n"
     ]
    },
    {
     "data": {
      "image/png": "[encoded data removed]",
      "text/plain": [
       "<Figure size 1296x864 with 3 Axes>"
      ]
     },
     "metadata": {
      "needs_background": "light"
     },
     "output_type": "display_data"
    }
   ],
   "source": [
    "# 전체 데이터의 결과 그래프 확인\n",
    "plt.figure(figsize=(18, 12))\n",
    "plt.subplot(231)\n",
    "plt.plot(data.mean())\n",
    "print(data.mean().plot.bar())\n",
    "plt.subplot(232)\n",
    "plt.plot(df_month_4.mean())\n",
    "print(df_month_4.mean().plot.bar())\n",
    "plt.subplot(233)\n",
    "plt.plot(df_month_5.mean())\n",
    "print(df_month_5.mean().plot.bar())"
   ]
  },
  {
   "cell_type": "code",
   "execution_count": 17,
   "metadata": {},
   "outputs": [
    {
     "name": "stdout",
     "output_type": "stream",
     "text": [
      "08시    22.42250\n",
      "09시    13.75375\n",
      "10시    15.75625\n",
      "dtype: float64\n",
      "08시    23.015333\n",
      "09시    16.160667\n",
      "10시    17.034667\n",
      "dtype: float64\n",
      "08시    22.809130\n",
      "09시    15.323478\n",
      "10시    16.590000\n",
      "dtype: float64\n"
     ]
    }
   ],
   "source": [
    "# 한강대교의 결과 수치 확인\n",
    "print(hangang_month_4.mean())\n",
    "print(hangang_month_5.mean())\n",
    "print(hangang.mean())"
   ]
  },
  {
   "cell_type": "code",
   "execution_count": 18,
   "metadata": {},
   "outputs": [
    {
     "name": "stdout",
     "output_type": "stream",
     "text": [
      "AxesSubplot(0.125,0.536818;0.227941x0.343182)\n",
      "AxesSubplot(0.398529,0.536818;0.227941x0.343182)\n",
      "AxesSubplot(0.672059,0.536818;0.227941x0.343182)\n"
     ]
    },
    {
     "name": "stderr",
     "output_type": "stream",
     "text": [
      "/Users/zaewoo/miniforge3/envs/workspace/lib/python3.8/site-packages/IPython/core/pylabtools.py:151: UserWarning: Glyph 49884 (\\N{HANGUL SYLLABLE SI}) missing from current font.\n",
      "  fig.canvas.print_figure(bytes_io, **kw)\n"
     ]
    },
    {
     "data": {
      "image/png": "[encoded data removed]",
      "text/plain": [
       "<Figure size 1296x864 with 3 Axes>"
      ]
     },
     "metadata": {
      "needs_background": "light"
     },
     "output_type": "display_data"
    }
   ],
   "source": [
    "# 한강대교의 결과 그래프 확인\n",
    "plt.figure(figsize=(18, 12))\n",
    "plt.subplot(231)\n",
    "plt.plot(hangang_month_4.mean())\n",
    "print(hangang_month_4.mean().plot.bar())\n",
    "plt.subplot(232)\n",
    "plt.plot(hangang_month_5.mean())\n",
    "print(hangang_month_5.mean().plot.bar())\n",
    "plt.subplot(233)\n",
    "plt.plot(hangang.mean())\n",
    "print(hangang.mean().plot.bar())"
   ]
  },
  {
   "cell_type": "code",
   "execution_count": 19,
   "metadata": {},
   "outputs": [
    {
     "name": "stdout",
     "output_type": "stream",
     "text": [
      "08시    57.92750\n",
      "09시    56.61125\n",
      "10시    56.82125\n",
      "dtype: float64\n",
      "08시    60.571333\n",
      "09시    58.518667\n",
      "10시    58.980667\n",
      "dtype: float64\n",
      "08시    59.651739\n",
      "09시    57.855217\n",
      "10시    58.229565\n",
      "dtype: float64\n"
     ]
    }
   ],
   "source": [
    "# 동작대교의 결과 수치 확인\n",
    "print(dongjak_month_4.mean())\n",
    "print(dongjak_month_5.mean())\n",
    "print(dongjak.mean())"
   ]
  },
  {
   "cell_type": "code",
   "execution_count": 20,
   "metadata": {},
   "outputs": [
    {
     "name": "stdout",
     "output_type": "stream",
     "text": [
      "AxesSubplot(0.125,0.536818;0.227941x0.343182)\n",
      "AxesSubplot(0.398529,0.536818;0.227941x0.343182)\n",
      "AxesSubplot(0.672059,0.536818;0.227941x0.343182)\n"
     ]
    },
    {
     "name": "stderr",
     "output_type": "stream",
     "text": [
      "/Users/zaewoo/miniforge3/envs/workspace/lib/python3.8/site-packages/IPython/core/pylabtools.py:151: UserWarning: Glyph 49884 (\\N{HANGUL SYLLABLE SI}) missing from current font.\n",
      "  fig.canvas.print_figure(bytes_io, **kw)\n"
     ]
    },
    {
     "data": {
      "image/png": "[encoded data removed]",
      "text/plain": [
       "<Figure size 1296x864 with 3 Axes>"
      ]
     },
     "metadata": {
      "needs_background": "light"
     },
     "output_type": "display_data"
    }
   ],
   "source": [
    "plt.figure(figsize=(18, 12))\n",
    "plt.subplot(231)\n",
    "plt.plot(dongjak_month_4.mean())\n",
    "print(dongjak_month_4.mean().plot.bar())\n",
    "plt.subplot(232)\n",
    "plt.plot(dongjak_month_5.mean())\n",
    "print(dongjak_month_5.mean().plot.bar())\n",
    "plt.subplot(233)\n",
    "plt.plot(dongjak.mean())\n",
    "print(dongjak.mean().plot.bar())"
   ]
  },
  {
   "cell_type": "code",
   "execution_count": 21,
   "metadata": {},
   "outputs": [
    {
     "name": "stdout",
     "output_type": "stream",
     "text": [
      "08시    50.49500\n",
      "09시    46.44875\n",
      "10시    48.85000\n",
      "dtype: float64\n",
      "08시    51.240000\n",
      "09시    47.119333\n",
      "10시    48.034000\n",
      "dtype: float64\n",
      "08시    50.980870\n",
      "09시    46.886087\n",
      "10시    48.317826\n",
      "dtype: float64\n"
     ]
    }
   ],
   "source": [
    "# 반포대교의 결과 수치 확인\n",
    "print(banpo_month_4.mean())\n",
    "print(banpo_month_5.mean())\n",
    "print(banpo.mean())"
   ]
  },
  {
   "cell_type": "code",
   "execution_count": 22,
   "metadata": {},
   "outputs": [
    {
     "name": "stdout",
     "output_type": "stream",
     "text": [
      "AxesSubplot(0.125,0.536818;0.227941x0.343182)\n",
      "AxesSubplot(0.398529,0.536818;0.227941x0.343182)\n",
      "AxesSubplot(0.672059,0.536818;0.227941x0.343182)\n"
     ]
    },
    {
     "name": "stderr",
     "output_type": "stream",
     "text": [
      "/Users/zaewoo/miniforge3/envs/workspace/lib/python3.8/site-packages/IPython/core/pylabtools.py:151: UserWarning: Glyph 49884 (\\N{HANGUL SYLLABLE SI}) missing from current font.\n",
      "  fig.canvas.print_figure(bytes_io, **kw)\n"
     ]
    },
    {
     "data": {
      "image/png": "[encoded data removed]",
      "text/plain": [
       "<Figure size 1296x864 with 3 Axes>"
      ]
     },
     "metadata": {
      "needs_background": "light"
     },
     "output_type": "display_data"
    }
   ],
   "source": [
    "# 반포대교의 결과 그래프 확인\n",
    "plt.figure(figsize=(18, 12))\n",
    "plt.subplot(231)\n",
    "plt.plot(banpo_month_4.mean())\n",
    "print(banpo_month_4.mean().plot.bar())\n",
    "plt.subplot(232)\n",
    "plt.plot(banpo_month_5.mean())\n",
    "print(banpo_month_5.mean().plot.bar())\n",
    "plt.subplot(233)\n",
    "plt.plot(banpo.mean())\n",
    "print(banpo.mean().plot.bar())"
   ]
  },
  {
   "cell_type": "code",
   "execution_count": 23,
   "metadata": {},
   "outputs": [
    {
     "name": "stdout",
     "output_type": "stream",
     "text": [
      "08시    37.40000\n",
      "09시    19.83000\n",
      "10시    26.95375\n",
      "dtype: float64\n",
      "08시    39.510000\n",
      "09시    23.896000\n",
      "10시    31.307333\n",
      "dtype: float64\n",
      "08시    38.776087\n",
      "09시    22.481739\n",
      "10시    29.793043\n",
      "dtype: float64\n"
     ]
    }
   ],
   "source": [
    "# 한남대교의 결과 확인\n",
    "print(hannam_month_4.mean())\n",
    "print(hannam_month_5.mean())\n",
    "print(hannam.mean())"
   ]
  },
  {
   "cell_type": "code",
   "execution_count": 24,
   "metadata": {},
   "outputs": [
    {
     "name": "stdout",
     "output_type": "stream",
     "text": [
      "AxesSubplot(0.125,0.536818;0.227941x0.343182)\n",
      "AxesSubplot(0.398529,0.536818;0.227941x0.343182)\n",
      "AxesSubplot(0.672059,0.536818;0.227941x0.343182)\n"
     ]
    },
    {
     "name": "stderr",
     "output_type": "stream",
     "text": [
      "/Users/zaewoo/miniforge3/envs/workspace/lib/python3.8/site-packages/IPython/core/pylabtools.py:151: UserWarning: Glyph 49884 (\\N{HANGUL SYLLABLE SI}) missing from current font.\n",
      "  fig.canvas.print_figure(bytes_io, **kw)\n"
     ]
    },
    {
     "data": {
      "image/png": "[encoded data removed]",
      "text/plain": [
       "<Figure size 1296x864 with 3 Axes>"
      ]
     },
     "metadata": {
      "needs_background": "light"
     },
     "output_type": "display_data"
    }
   ],
   "source": [
    "# 한남대교의 결과 그래프 확인\n",
    "plt.figure(figsize=(18, 12))\n",
    "plt.subplot(231)\n",
    "plt.plot(hannam_month_4.mean())\n",
    "print(hannam_month_4.mean().plot.bar())\n",
    "plt.subplot(232)\n",
    "plt.plot(hannam_month_5.mean())\n",
    "print(hannam_month_5.mean().plot.bar())\n",
    "plt.subplot(233)\n",
    "plt.plot(hannam.mean())\n",
    "print(hannam.mean().plot.bar())"
   ]
  }
 ],
 "metadata": {
  "kernelspec": {
   "display_name": "Python 3.8.13 ('workspace')",
   "language": "python",
   "name": "python3"
  },
  "language_info": {
   "codemirror_mode": {
    "name": "ipython",
    "version": 3
   },
   "file_extension": ".py",
   "mimetype": "text/x-python",
   "name": "python",
   "nbconvert_exporter": "python",
   "pygments_lexer": "ipython3",
   "version": "3.8.13"
  },
  "orig_nbformat": 4,
  "vscode": {
   "interpreter": {
    "hash": "8bea183450d7cf8a2b3c53154ad8f0f125116e7c7c1dc9990ddd4f03ccd47efe"
   }
  }
 },
 "nbformat": 4,
 "nbformat_minor": 2
}
