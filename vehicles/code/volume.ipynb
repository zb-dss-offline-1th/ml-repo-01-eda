{
 "cells": [
  {
   "cell_type": "markdown",
   "metadata": {},
   "source": [
    "#### 라이브러리 불러오기"
   ]
  },
  {
   "cell_type": "code",
   "execution_count": 1,
   "metadata": {},
   "outputs": [],
   "source": [
    "import pandas as pd\n",
    "import matplotlib.pyplot as plt\n",
    "\n",
    "# 모든 행과 열을 확인하고 싶으면 다음의 주석을 해제하면 됩니다.\n",
    "pd.set_option(\"display.max_columns\", None)\n",
    "pd.set_option(\"display.max_rows\", None)"
   ]
  },
  {
   "cell_type": "markdown",
   "metadata": {},
   "source": [
    "#### 데이터 불러오기"
   ]
  },
  {
   "cell_type": "code",
   "execution_count": 2,
   "metadata": {},
   "outputs": [],
   "source": [
    "# 데이터 경로 지정\n",
    "path_month_4 = \"/Users/zaewoo/Downloads/서울시교통관련데이터/차량통행속도/04월 서울시 교통량 조사자료(2022).xlsx\"\n",
    "path_month_5 = \"/Users/zaewoo/Downloads/서울시교통관련데이터/차량통행속도/05월 서울시 교통량 조사자료(2022).xlsx\"\n",
    "\n",
    "# 데이터 불러오기\n",
    "df_month_4 = pd.read_excel(path_month_4, sheet_name=\"2022년 04월\")\n",
    "df_month_5 = pd.read_excel(path_month_5, sheet_name=\"2022년 05월\")"
   ]
  },
  {
   "cell_type": "markdown",
   "metadata": {},
   "source": [
    "#### 데이터 전처리"
   ]
  },
  {
   "cell_type": "code",
   "execution_count": 3,
   "metadata": {},
   "outputs": [],
   "source": [
    "# 탐색 구간 지정\n",
    "\n",
    "# 4월\n",
    "df_month_4 = df_month_4.loc[((df_month_4[\"지점명\"]==\"한강대교\") | \n",
    "                            (df_month_4[\"지점명\"]==\"동작대교\") | \n",
    "                            (df_month_4[\"지점명\"]==\"반포대교\") | \n",
    "                            (df_month_4[\"지점명\"]==\"한남대교\") | \n",
    "                            (df_month_4[\"지점명\"]==\"잠수교\")) &\n",
    "                            (df_month_4[\"방향\"]==\"유입\")]\n",
    "\n",
    "# 5월\n",
    "df_month_5 = df_month_5.loc[((df_month_5[\"지점명\"]==\"한강대교\") | \n",
    "                            (df_month_5[\"지점명\"]==\"동작대교\") | \n",
    "                            (df_month_5[\"지점명\"]==\"반포대교\") | \n",
    "                            (df_month_5[\"지점명\"]==\"한남대교\") | \n",
    "                            (df_month_5[\"지점명\"]==\"잠수교\")) &\n",
    "                            (df_month_5[\"방향\"]==\"유입\")]"
   ]
  },
  {
   "cell_type": "code",
   "execution_count": 4,
   "metadata": {},
   "outputs": [],
   "source": [
    "# 탐색 일자 지정\n",
    "df_month_4 = df_month_4.loc[(df_month_4[\"일자\"] > 20220419)]\n",
    "df_month_5 = df_month_5.loc[(df_month_5[\"일자\"] < 20220531)]\n",
    "\n",
    "# 탐색 일자 내 공휴일 제거\n",
    "df_month_5 = df_month_5[df_month_5[\"일자\"] != 20220505] "
   ]
  },
  {
   "cell_type": "code",
   "execution_count": 5,
   "metadata": {},
   "outputs": [
    {
     "name": "stderr",
     "output_type": "stream",
     "text": [
      "/var/folders/j4/g1ty5k8d2_gfwhz7k__s54sm0000gn/T/ipykernel_11384/3710312854.py:9: FutureWarning: Dropping of nuisance columns in DataFrame reductions (with 'numeric_only=None') is deprecated; in a future version this will raise TypeError.  Select only valid columns before calling the reduction.\n",
      "  data[data[\"지점명\"] == \"한강대교\"] = data[data[\"지점명\"] == \"한강대교\"].fillna(data[data[\"지점명\"] == \"한강대교\"].mean())\n",
      "/var/folders/j4/g1ty5k8d2_gfwhz7k__s54sm0000gn/T/ipykernel_11384/3710312854.py:10: FutureWarning: Dropping of nuisance columns in DataFrame reductions (with 'numeric_only=None') is deprecated; in a future version this will raise TypeError.  Select only valid columns before calling the reduction.\n",
      "  data[data[\"지점명\"] == \"동작대교\"] = data[data[\"지점명\"] == \"동작대교\"].fillna(data[data[\"지점명\"] == \"동작대교\"].mean())\n"
     ]
    }
   ],
   "source": [
    "# 탐색 요일 지정\n",
    "df_month_4 = df_month_4.loc[(df_month_4[\"요일\"] != \"토\") & (df_month_4[\"요일\"] != \"일\")]\n",
    "df_month_5 = df_month_5.loc[(df_month_5[\"요일\"] != \"토\") & (df_month_5[\"요일\"] != \"일\")]\n",
    "\n",
    "# 데이터 병합\n",
    "data = pd.concat([df_month_4, df_month_5])\n",
    "\n",
    "# 데이터 내 결측치: 기준 컬럼의 평균을 결측치에 대입하였습니다.\n",
    "data[data[\"지점명\"] == \"한강대교\"] = data[data[\"지점명\"] == \"한강대교\"].fillna(data[data[\"지점명\"] == \"한강대교\"].mean())\n",
    "data[data[\"지점명\"] == \"동작대교\"] = data[data[\"지점명\"] == \"동작대교\"].fillna(data[data[\"지점명\"] == \"동작대교\"].mean())"
   ]
  },
  {
   "cell_type": "code",
   "execution_count": 6,
   "metadata": {},
   "outputs": [],
   "source": [
    "# 탐색 일자 구분: 대통령 취임 전과 후로 구분하였습니다.\n",
    "df_month_5_before = df_month_5.loc[(df_month_5[\"일자\"] < 20220511)]\n",
    "df_month_5_after = df_month_5.loc[(df_month_5[\"일자\"] > 20220510)]"
   ]
  },
  {
   "cell_type": "code",
   "execution_count": 7,
   "metadata": {},
   "outputs": [
    {
     "name": "stderr",
     "output_type": "stream",
     "text": [
      "/var/folders/j4/g1ty5k8d2_gfwhz7k__s54sm0000gn/T/ipykernel_11384/2496528133.py:14: FutureWarning: Dropping of nuisance columns in DataFrame reductions (with 'numeric_only=None') is deprecated; in a future version this will raise TypeError.  Select only valid columns before calling the reduction.\n",
      "  hangang_month_4.fillna(hangang_month_4.mean())\n",
      "/var/folders/j4/g1ty5k8d2_gfwhz7k__s54sm0000gn/T/ipykernel_11384/2496528133.py:15: FutureWarning: Dropping of nuisance columns in DataFrame reductions (with 'numeric_only=None') is deprecated; in a future version this will raise TypeError.  Select only valid columns before calling the reduction.\n",
      "  hangang_month_5.fillna(hangang_month_5.mean())\n",
      "/var/folders/j4/g1ty5k8d2_gfwhz7k__s54sm0000gn/T/ipykernel_11384/2496528133.py:16: FutureWarning: Dropping of nuisance columns in DataFrame reductions (with 'numeric_only=None') is deprecated; in a future version this will raise TypeError.  Select only valid columns before calling the reduction.\n",
      "  hangang = hangang.fillna(hangang.mean())\n",
      "/var/folders/j4/g1ty5k8d2_gfwhz7k__s54sm0000gn/T/ipykernel_11384/2496528133.py:29: FutureWarning: Dropping of nuisance columns in DataFrame reductions (with 'numeric_only=None') is deprecated; in a future version this will raise TypeError.  Select only valid columns before calling the reduction.\n",
      "  dongjak_month_4.fillna(dongjak_month_4.mean())\n",
      "/var/folders/j4/g1ty5k8d2_gfwhz7k__s54sm0000gn/T/ipykernel_11384/2496528133.py:30: FutureWarning: Dropping of nuisance columns in DataFrame reductions (with 'numeric_only=None') is deprecated; in a future version this will raise TypeError.  Select only valid columns before calling the reduction.\n",
      "  dongjak_month_5.fillna(dongjak_month_5.mean())\n",
      "/var/folders/j4/g1ty5k8d2_gfwhz7k__s54sm0000gn/T/ipykernel_11384/2496528133.py:31: FutureWarning: Dropping of nuisance columns in DataFrame reductions (with 'numeric_only=None') is deprecated; in a future version this will raise TypeError.  Select only valid columns before calling the reduction.\n",
      "  dongjak = dongjak.fillna(dongjak.mean())\n"
     ]
    }
   ],
   "source": [
    "# 탐색 구간 별 분석을 위하여 다음과 같이 분류하였습니다.\n",
    "\n",
    "# 한강대교\n",
    "hangang_month_4 = df_month_4[df_month_4[\"지점명\"] == \"한강대교\"]\n",
    "hangang_month_5 = df_month_5[df_month_5[\"지점명\"] == \"한강대교\"]\n",
    "hangang = pd.concat([hangang_month_4, hangang_month_5])\n",
    "\n",
    "# 한강대교 - 탐색 시간 지정\n",
    "hangang_month_4 = hangang_month_4[[\"일자\", \"요일\", \"지점명\", \"8시\", \"9시\", \"10시\"]]\n",
    "hangang_month_5 = hangang_month_5[[\"일자\", \"요일\", \"지점명\", \"8시\", \"9시\", \"10시\"]]\n",
    "hangang = hangang[[\"일자\", \"요일\", \"지점명\", \"8시\", \"9시\", \"10시\"]]\n",
    "\n",
    "# 한강대교 - 결측치: 기준 컬럼의 평균을 결측치에 대입하였습니다.\n",
    "hangang_month_4.fillna(hangang_month_4.mean())\n",
    "hangang_month_5.fillna(hangang_month_5.mean())\n",
    "hangang = hangang.fillna(hangang.mean())\n",
    "\n",
    "# 동작대교\n",
    "dongjak_month_4 = df_month_4[df_month_4[\"지점명\"] == \"동작대교\"]\n",
    "dongjak_month_5 = df_month_5[df_month_5[\"지점명\"] == \"동작대교\"]\n",
    "dongjak = pd.concat([dongjak_month_4, dongjak_month_5])\n",
    "\n",
    "# 동작대교 - 탐색 시간 지정\n",
    "dongjak_month_4 = dongjak_month_4[[\"일자\", \"요일\", \"지점명\", \"8시\", \"9시\", \"10시\"]]\n",
    "dongjak_month_5 = dongjak_month_5[[\"일자\", \"요일\", \"지점명\", \"8시\", \"9시\", \"10시\"]]\n",
    "dongjak = dongjak[[\"일자\", \"요일\", \"지점명\", \"8시\", \"9시\", \"10시\"]]\n",
    "\n",
    "# 동작대교 - 결측치: 기준 컬럼의 평균을 결측치에 대입하였습니다.\n",
    "dongjak_month_4.fillna(dongjak_month_4.mean())\n",
    "dongjak_month_5.fillna(dongjak_month_5.mean())\n",
    "dongjak = dongjak.fillna(dongjak.mean())\n",
    "\n",
    "# 반포대교\n",
    "banpo_month_4 = df_month_4[df_month_4[\"지점명\"] == \"반포대교\"]\n",
    "banpo_month_5 = df_month_5[df_month_5[\"지점명\"] == \"반포대교\"]\n",
    "banpo = pd.concat([banpo_month_4, banpo_month_5])\n",
    "\n",
    "# 반포대교 - 탐색 시간 지정\n",
    "banpo_month_4 = banpo_month_4[[\"일자\", \"요일\", \"지점명\", \"8시\", \"9시\", \"10시\"]]\n",
    "banpo_month_5 = banpo_month_5[[\"일자\", \"요일\", \"지점명\", \"8시\", \"9시\", \"10시\"]]\n",
    "banpo = banpo[[\"일자\", \"요일\", \"지점명\", \"8시\", \"9시\", \"10시\"]]\n",
    "\n",
    "# 한남대교\n",
    "hannam_month_4 = df_month_4[df_month_4[\"지점명\"] == \"한남대교\"]\n",
    "hannam_month_5 = df_month_5[df_month_5[\"지점명\"] == \"한남대교\"]\n",
    "hannam = pd.concat([hannam_month_4, hannam_month_5])\n",
    "\n",
    "# 한남대교 - 탐색 시간 지정\n",
    "hannam_month_4 = hannam_month_4[[\"일자\", \"요일\", \"지점명\", \"8시\", \"9시\", \"10시\"]]\n",
    "hannam_month_5 = hannam_month_5[[\"일자\", \"요일\", \"지점명\", \"8시\", \"9시\", \"10시\"]]\n",
    "hannam = hannam[[\"일자\", \"요일\", \"지점명\", \"8시\", \"9시\", \"10시\"]]\n",
    "\n",
    "# 잠수교\n",
    "jamsu_month_4 = df_month_4[df_month_4[\"지점명\"] == \"잠수교\"]\n",
    "jamsu_month_5 = df_month_5[df_month_5[\"지점명\"] == \"잠수교\"]\n",
    "jamsu = pd.concat([jamsu_month_4, jamsu_month_5])\n",
    "\n",
    "# 잠수교 - 탐색 시간 지정\n",
    "jamsu_month_4 = jamsu_month_4[[\"일자\", \"요일\", \"지점명\", \"8시\", \"9시\", \"10시\"]]\n",
    "jamsu_month_5 = jamsu_month_5[[\"일자\", \"요일\", \"지점명\", \"8시\", \"9시\", \"10시\"]]\n",
    "jamsu = jamsu[[\"일자\", \"요일\", \"지점명\", \"8시\", \"9시\", \"10시\"]]"
   ]
  },
  {
   "cell_type": "code",
   "execution_count": 8,
   "metadata": {},
   "outputs": [],
   "source": [
    "# 탐색 시간 지정\n",
    "data = data[[\"일자\", \"요일\", \"지점명\", \"8시\", \"9시\", \"10시\"]].sort_values(by=\"일자\")\n",
    "df_month_4 = df_month_4[[\"일자\", \"요일\", \"지점명\", \"8시\", \"9시\", \"10시\"]].sort_values(by=\"일자\")\n",
    "df_month_5 = df_month_5[[\"일자\", \"요일\", \"지점명\", \"8시\", \"9시\", \"10시\"]].sort_values(by=\"일자\")"
   ]
  },
  {
   "cell_type": "markdown",
   "metadata": {},
   "source": [
    "#### 결과 확인"
   ]
  },
  {
   "cell_type": "code",
   "execution_count": 9,
   "metadata": {},
   "outputs": [
    {
     "name": "stdout",
     "output_type": "stream",
     "text": [
      "8시     3064.025641\n",
      "9시     2643.871795\n",
      "10시    2486.820513\n",
      "dtype: float64\n",
      "8시     2986.912088\n",
      "9시     2667.450549\n",
      "10시    2516.219780\n",
      "dtype: float64\n",
      "8시     3005.996264\n",
      "9시     2664.778242\n",
      "10시    2514.482418\n",
      "dtype: float64\n"
     ]
    }
   ],
   "source": [
    "# 전체 데이터의 결과 수치 확인\n",
    "print(df_month_4[[\"8시\", \"9시\", \"10시\"]].mean())\n",
    "print(df_month_5[[\"8시\", \"9시\", \"10시\"]].mean())\n",
    "print(data[[\"8시\", \"9시\", \"10시\"]].mean())"
   ]
  },
  {
   "cell_type": "code",
   "execution_count": 10,
   "metadata": {},
   "outputs": [
    {
     "name": "stderr",
     "output_type": "stream",
     "text": [
      "/Users/zaewoo/miniforge3/envs/workspace/lib/python3.8/site-packages/IPython/core/pylabtools.py:151: UserWarning: Glyph 49884 (\\N{HANGUL SYLLABLE SI}) missing from current font.\n",
      "  fig.canvas.print_figure(bytes_io, **kw)\n"
     ]
    },
    {
     "name": "stdout",
     "output_type": "stream",
     "text": [
      "AxesSubplot(0.125,0.536818;0.227941x0.343182)\n",
      "AxesSubplot(0.398529,0.536818;0.227941x0.343182)\n",
      "AxesSubplot(0.672059,0.536818;0.227941x0.343182)\n"
     ]
    },
    {
     "data": {
      "image/png": "[encoded data removed]",
      "text/plain": [
       "<Figure size 1296x864 with 3 Axes>"
      ]
     },
     "metadata": {
      "needs_background": "light"
     },
     "output_type": "display_data"
    }
   ],
   "source": [
    "# 전체 데이터의 결과 그래프 확인\n",
    "plt.figure(figsize=(18, 12))\n",
    "plt.subplot(231)\n",
    "plt.plot(df_month_4[[\"8시\", \"9시\", \"10시\"]].mean())\n",
    "print(df_month_4[[\"8시\", \"9시\", \"10시\"]].mean().plot.bar())\n",
    "plt.subplot(232)\n",
    "plt.plot(df_month_5[[\"8시\", \"9시\", \"10시\"]].mean())\n",
    "print(df_month_5[[\"8시\", \"9시\", \"10시\"]].mean().plot.bar())\n",
    "plt.subplot(233)\n",
    "plt.plot(data[[\"8시\", \"9시\", \"10시\"]].mean())\n",
    "print(data[[\"8시\", \"9시\", \"10시\"]].mean().plot.bar())"
   ]
  },
  {
   "cell_type": "code",
   "execution_count": 11,
   "metadata": {},
   "outputs": [
    {
     "name": "stdout",
     "output_type": "stream",
     "text": [
      "8시     3247.500\n",
      "9시     2966.875\n",
      "10시    2892.125\n",
      "dtype: float64\n",
      "8시     3055.500000\n",
      "9시     2994.750000\n",
      "10시    2873.166667\n",
      "dtype: float64\n",
      "8시     3132.30\n",
      "9시     2983.60\n",
      "10시    2880.75\n",
      "dtype: float64\n"
     ]
    }
   ],
   "source": [
    "# 한강대교의 결과 수치 확인\n",
    "print(hangang_month_4[[\"8시\", \"9시\", \"10시\"]].mean())\n",
    "print(hangang_month_5[[\"8시\", \"9시\", \"10시\"]].mean())\n",
    "print(hangang[[\"8시\", \"9시\", \"10시\"]].mean())"
   ]
  },
  {
   "cell_type": "code",
   "execution_count": 12,
   "metadata": {},
   "outputs": [
    {
     "name": "stdout",
     "output_type": "stream",
     "text": [
      "AxesSubplot(0.125,0.536818;0.227941x0.343182)\n",
      "AxesSubplot(0.398529,0.536818;0.227941x0.343182)\n",
      "AxesSubplot(0.672059,0.536818;0.227941x0.343182)\n"
     ]
    },
    {
     "name": "stderr",
     "output_type": "stream",
     "text": [
      "/Users/zaewoo/miniforge3/envs/workspace/lib/python3.8/site-packages/IPython/core/pylabtools.py:151: UserWarning: Glyph 49884 (\\N{HANGUL SYLLABLE SI}) missing from current font.\n",
      "  fig.canvas.print_figure(bytes_io, **kw)\n"
     ]
    },
    {
     "data": {
      "image/png": "[encoded data removed]",
      "text/plain": [
       "<Figure size 1296x864 with 3 Axes>"
      ]
     },
     "metadata": {
      "needs_background": "light"
     },
     "output_type": "display_data"
    }
   ],
   "source": [
    "# 한강대교의 결과 그래프 확인\n",
    "plt.figure(figsize=(18, 12))\n",
    "plt.subplot(231)\n",
    "plt.plot(hangang_month_4[[\"8시\", \"9시\", \"10시\"]].mean())\n",
    "print(hangang_month_4[[\"8시\", \"9시\", \"10시\"]].mean().plot.bar())\n",
    "plt.subplot(232)\n",
    "plt.plot(hangang_month_5[[\"8시\", \"9시\", \"10시\"]].mean())\n",
    "print(hangang_month_5[[\"8시\", \"9시\", \"10시\"]].mean().plot.bar())\n",
    "plt.subplot(233)\n",
    "plt.plot(hangang[[\"8시\", \"9시\", \"10시\"]].mean())\n",
    "print(hangang[[\"8시\", \"9시\", \"10시\"]].mean().plot.bar())"
   ]
  },
  {
   "cell_type": "code",
   "execution_count": 13,
   "metadata": {},
   "outputs": [
    {
     "name": "stdout",
     "output_type": "stream",
     "text": [
      "8시     2247.714286\n",
      "9시     1604.142857\n",
      "10시    1451.571429\n",
      "dtype: float64\n",
      "8시     2233.789474\n",
      "9시     1701.894737\n",
      "10시    1531.210526\n",
      "dtype: float64\n",
      "8시     2237.538462\n",
      "9시     1675.576923\n",
      "10시    1509.769231\n",
      "dtype: float64\n"
     ]
    }
   ],
   "source": [
    "# 동작대교의 결과 수치 확인\n",
    "print(dongjak_month_4[[\"8시\", \"9시\", \"10시\"]].mean())\n",
    "print(dongjak_month_5[[\"8시\", \"9시\", \"10시\"]].mean())\n",
    "print(dongjak[[\"8시\", \"9시\", \"10시\"]].mean())"
   ]
  },
  {
   "cell_type": "code",
   "execution_count": 14,
   "metadata": {},
   "outputs": [
    {
     "name": "stdout",
     "output_type": "stream",
     "text": [
      "AxesSubplot(0.125,0.536818;0.227941x0.343182)\n",
      "AxesSubplot(0.398529,0.536818;0.227941x0.343182)\n",
      "AxesSubplot(0.672059,0.536818;0.227941x0.343182)\n"
     ]
    },
    {
     "name": "stderr",
     "output_type": "stream",
     "text": [
      "/Users/zaewoo/miniforge3/envs/workspace/lib/python3.8/site-packages/IPython/core/pylabtools.py:151: UserWarning: Glyph 49884 (\\N{HANGUL SYLLABLE SI}) missing from current font.\n",
      "  fig.canvas.print_figure(bytes_io, **kw)\n"
     ]
    },
    {
     "data": {
      "image/png": "[encoded data removed]",
      "text/plain": [
       "<Figure size 1296x864 with 3 Axes>"
      ]
     },
     "metadata": {
      "needs_background": "light"
     },
     "output_type": "display_data"
    }
   ],
   "source": [
    "# 동작대교의 결과 그래프 확인\n",
    "plt.figure(figsize=(18, 12))\n",
    "plt.subplot(231)\n",
    "plt.plot(dongjak_month_4[[\"8시\", \"9시\", \"10시\"]].mean())\n",
    "print(dongjak_month_4[[\"8시\", \"9시\", \"10시\"]].mean().plot.bar())\n",
    "plt.subplot(232)\n",
    "plt.plot(dongjak_month_5[[\"8시\", \"9시\", \"10시\"]].mean())\n",
    "print(dongjak_month_5[[\"8시\", \"9시\", \"10시\"]].mean().plot.bar())\n",
    "plt.subplot(233)\n",
    "plt.plot(dongjak[[\"8시\", \"9시\", \"10시\"]].mean())\n",
    "print(dongjak[[\"8시\", \"9시\", \"10시\"]].mean().plot.bar())"
   ]
  },
  {
   "cell_type": "code",
   "execution_count": 15,
   "metadata": {},
   "outputs": [
    {
     "name": "stdout",
     "output_type": "stream",
     "text": [
      "8시     3603.125\n",
      "9시     3137.000\n",
      "10시    2920.500\n",
      "dtype: float64\n",
      "8시     3608.45\n",
      "9시     3218.35\n",
      "10시    2946.00\n",
      "dtype: float64\n",
      "8시     3606.928571\n",
      "9시     3195.107143\n",
      "10시    2938.714286\n",
      "dtype: float64\n"
     ]
    }
   ],
   "source": [
    "# 반포대교의 결과 수치 확인\n",
    "print(banpo_month_4[[\"8시\", \"9시\", \"10시\"]].mean())\n",
    "print(banpo_month_5[[\"8시\", \"9시\", \"10시\"]].mean())\n",
    "print(banpo[[\"8시\", \"9시\", \"10시\"]].mean())"
   ]
  },
  {
   "cell_type": "code",
   "execution_count": 16,
   "metadata": {},
   "outputs": [
    {
     "name": "stdout",
     "output_type": "stream",
     "text": [
      "AxesSubplot(0.125,0.536818;0.227941x0.343182)\n",
      "AxesSubplot(0.398529,0.536818;0.227941x0.343182)\n",
      "AxesSubplot(0.672059,0.536818;0.227941x0.343182)\n"
     ]
    },
    {
     "name": "stderr",
     "output_type": "stream",
     "text": [
      "/Users/zaewoo/miniforge3/envs/workspace/lib/python3.8/site-packages/IPython/core/pylabtools.py:151: UserWarning: Glyph 49884 (\\N{HANGUL SYLLABLE SI}) missing from current font.\n",
      "  fig.canvas.print_figure(bytes_io, **kw)\n"
     ]
    },
    {
     "data": {
      "image/png": "[encoded data removed]",
      "text/plain": [
       "<Figure size 1296x864 with 3 Axes>"
      ]
     },
     "metadata": {
      "needs_background": "light"
     },
     "output_type": "display_data"
    }
   ],
   "source": [
    "# 반포대교의 결과 그래프 확인\n",
    "plt.figure(figsize=(18, 12))\n",
    "plt.subplot(231)\n",
    "plt.plot(banpo_month_4[[\"8시\", \"9시\", \"10시\"]].mean())\n",
    "print(banpo_month_4[[\"8시\", \"9시\", \"10시\"]].mean().plot.bar())\n",
    "plt.subplot(232)\n",
    "plt.plot(banpo_month_5[[\"8시\", \"9시\", \"10시\"]].mean())\n",
    "print(banpo_month_5[[\"8시\", \"9시\", \"10시\"]].mean().plot.bar())\n",
    "plt.subplot(233)\n",
    "plt.plot(banpo[[\"8시\", \"9시\", \"10시\"]].mean())\n",
    "print(banpo[[\"8시\", \"9시\", \"10시\"]].mean().plot.bar())"
   ]
  },
  {
   "cell_type": "code",
   "execution_count": 17,
   "metadata": {},
   "outputs": [
    {
     "name": "stdout",
     "output_type": "stream",
     "text": [
      "8시     5612.750\n",
      "9시     4949.125\n",
      "10시    4596.375\n",
      "dtype: float64\n",
      "8시     5505.40\n",
      "9시     5063.75\n",
      "10시    4845.10\n",
      "dtype: float64\n",
      "8시     5536.071429\n",
      "9시     5031.000000\n",
      "10시    4774.035714\n",
      "dtype: float64\n"
     ]
    }
   ],
   "source": [
    "# 한남대교의 결과 확인\n",
    "print(hannam_month_4[[\"8시\", \"9시\", \"10시\"]].mean())\n",
    "print(hannam_month_5[[\"8시\", \"9시\", \"10시\"]].mean())\n",
    "print(hannam[[\"8시\", \"9시\", \"10시\"]].mean())"
   ]
  },
  {
   "cell_type": "code",
   "execution_count": 18,
   "metadata": {},
   "outputs": [
    {
     "name": "stdout",
     "output_type": "stream",
     "text": [
      "AxesSubplot(0.125,0.536818;0.227941x0.343182)\n",
      "AxesSubplot(0.398529,0.536818;0.227941x0.343182)\n",
      "AxesSubplot(0.672059,0.536818;0.227941x0.343182)\n"
     ]
    },
    {
     "name": "stderr",
     "output_type": "stream",
     "text": [
      "/Users/zaewoo/miniforge3/envs/workspace/lib/python3.8/site-packages/IPython/core/pylabtools.py:151: UserWarning: Glyph 49884 (\\N{HANGUL SYLLABLE SI}) missing from current font.\n",
      "  fig.canvas.print_figure(bytes_io, **kw)\n"
     ]
    },
    {
     "data": {
      "image/png": "[encoded data removed]",
      "text/plain": [
       "<Figure size 1296x864 with 3 Axes>"
      ]
     },
     "metadata": {
      "needs_background": "light"
     },
     "output_type": "display_data"
    }
   ],
   "source": [
    "# 한남대교의 결과 그래프 확인\n",
    "plt.figure(figsize=(18, 12))\n",
    "plt.subplot(231)\n",
    "plt.plot(hannam_month_4[[\"8시\", \"9시\", \"10시\"]].mean())\n",
    "print(hannam_month_4[[\"8시\", \"9시\", \"10시\"]].mean().plot.bar())\n",
    "plt.subplot(232)\n",
    "plt.plot(hannam_month_5[[\"8시\", \"9시\", \"10시\"]].mean())\n",
    "print(hannam_month_5[[\"8시\", \"9시\", \"10시\"]].mean().plot.bar())\n",
    "plt.subplot(233)\n",
    "plt.plot(hannam[[\"8시\", \"9시\", \"10시\"]].mean())\n",
    "print(hannam[[\"8시\", \"9시\", \"10시\"]].mean().plot.bar())"
   ]
  },
  {
   "cell_type": "code",
   "execution_count": 19,
   "metadata": {},
   "outputs": [
    {
     "name": "stdout",
     "output_type": "stream",
     "text": [
      "8시     507.000\n",
      "9시     432.250\n",
      "10시    444.125\n",
      "dtype: float64\n",
      "8시     521.20\n",
      "9시     441.15\n",
      "10시    479.15\n",
      "dtype: float64\n",
      "8시     517.142857\n",
      "9시     438.607143\n",
      "10시    469.142857\n",
      "dtype: float64\n"
     ]
    }
   ],
   "source": [
    "# 잠수교의 결과 확인\n",
    "print(jamsu_month_4[[\"8시\", \"9시\", \"10시\"]].mean())\n",
    "print(jamsu_month_5[[\"8시\", \"9시\", \"10시\"]].mean())\n",
    "print(jamsu[[\"8시\", \"9시\", \"10시\"]].mean())"
   ]
  },
  {
   "cell_type": "code",
   "execution_count": 20,
   "metadata": {},
   "outputs": [
    {
     "name": "stdout",
     "output_type": "stream",
     "text": [
      "AxesSubplot(0.125,0.536818;0.227941x0.343182)\n",
      "AxesSubplot(0.398529,0.536818;0.227941x0.343182)\n",
      "AxesSubplot(0.672059,0.536818;0.227941x0.343182)\n"
     ]
    },
    {
     "name": "stderr",
     "output_type": "stream",
     "text": [
      "/Users/zaewoo/miniforge3/envs/workspace/lib/python3.8/site-packages/IPython/core/pylabtools.py:151: UserWarning: Glyph 49884 (\\N{HANGUL SYLLABLE SI}) missing from current font.\n",
      "  fig.canvas.print_figure(bytes_io, **kw)\n"
     ]
    },
    {
     "data": {
      "image/png": "[encoded data removed]",
      "text/plain": [
       "<Figure size 1296x864 with 3 Axes>"
      ]
     },
     "metadata": {
      "needs_background": "light"
     },
     "output_type": "display_data"
    }
   ],
   "source": [
    "# 잠수교의 결과 그래프 확인\n",
    "plt.figure(figsize=(18, 12))\n",
    "plt.subplot(231)\n",
    "plt.plot(jamsu_month_4[[\"8시\", \"9시\", \"10시\"]].mean())\n",
    "print(jamsu_month_4[[\"8시\", \"9시\", \"10시\"]].mean().plot.bar())\n",
    "plt.subplot(232)\n",
    "plt.plot(jamsu_month_5[[\"8시\", \"9시\", \"10시\"]].mean())\n",
    "print(jamsu_month_5[[\"8시\", \"9시\", \"10시\"]].mean().plot.bar())\n",
    "plt.subplot(233)\n",
    "plt.plot(jamsu[[\"8시\", \"9시\", \"10시\"]].mean())\n",
    "print(jamsu[[\"8시\", \"9시\", \"10시\"]].mean().plot.bar())"
   ]
  },
  {
   "cell_type": "markdown",
   "metadata": {},
   "source": [
    "#### 데이터 내보내기"
   ]
  },
  {
   "cell_type": "code",
   "execution_count": 21,
   "metadata": {},
   "outputs": [],
   "source": [
    "df_month_4.to_csv(\"./volume/before.csv\")\n",
    "df_month_5.to_csv(\"./volume/after.csv\")\n",
    "data.to_csv(\"./volume/data.csv\")\n",
    "hangang.to_csv(\"./volume/hangang.csv\")\n",
    "dongjak.to_csv(\"./volume/dongjak.csv\")\n",
    "banpo.to_csv(\"./volume/banpo.csv\")\n",
    "hannam.to_csv(\"./volume/hannam.csv\")\n",
    "jamsu.to_csv(\"./volume/jamsu.csv\")"
   ]
  }
 ],
 "metadata": {
  "kernelspec": {
   "display_name": "Python 3.8.13 ('workspace')",
   "language": "python",
   "name": "python3"
  },
  "language_info": {
   "codemirror_mode": {
    "name": "ipython",
    "version": 3
   },
   "file_extension": ".py",
   "mimetype": "text/x-python",
   "name": "python",
   "nbconvert_exporter": "python",
   "pygments_lexer": "ipython3",
   "version": "3.8.13"
  },
  "orig_nbformat": 4,
  "vscode": {
   "interpreter": {
    "hash": "8bea183450d7cf8a2b3c53154ad8f0f125116e7c7c1dc9990ddd4f03ccd47efe"
   }
  }
 },
 "nbformat": 4,
 "nbformat_minor": 2
}
