{
 "cells": [
  {
   "cell_type": "markdown",
   "metadata": {},
   "source": [
    "#### 라이브러리 불러오기"
   ]
  },
  {
   "cell_type": "code",
   "execution_count": 1,
   "metadata": {},
   "outputs": [],
   "source": [
    "import pandas as pd\n",
    "import matplotlib.pyplot as plt\n",
    "\n",
    "# 모든 행과 열을 확인하고 싶으면 다음의 주석을 해제하면 됩니다.\n",
    "pd.set_option(\"display.max_columns\", None)\n",
    "pd.set_option(\"display.max_rows\", None)"
   ]
  },
  {
   "cell_type": "markdown",
   "metadata": {},
   "source": [
    "#### 데이터 불러오기"
   ]
  },
  {
   "cell_type": "code",
   "execution_count": 2,
   "metadata": {},
   "outputs": [],
   "source": [
    "# 데이터 경로 지정\n",
    "path_month_4 = \"/Users/zaewoo/Downloads/서울시교통관련데이터/차량통행속도/2022년 4월 서울시 차량통행속도.xlsx\"\n",
    "path_month_5 = \"/Users/zaewoo/Downloads/서울시교통관련데이터/차량통행속도/2022년 5월 서울시 차량통행속도.xlsx\"\n",
    "\n",
    "# 데이터 불러오기\n",
    "df_month_4 = pd.read_excel(path_month_4)\n",
    "df_month_5 = pd.read_excel(path_month_5)"
   ]
  },
  {
   "cell_type": "markdown",
   "metadata": {},
   "source": [
    "#### 데이터 전처리"
   ]
  },
  {
   "cell_type": "code",
   "execution_count": 3,
   "metadata": {},
   "outputs": [],
   "source": [
    "# 탐색 구간 지정\n",
    "\n",
    "# 4월\n",
    "df_month_4 = df_month_4.loc[((df_month_4[\"시점명\"]==\"한강대교남단교차로\") &\n",
    "                            (df_month_4[\"종점명\"]==\"한강대교북단교차로\")) | \n",
    "                            ((df_month_4[\"시점명\"]==\"동작대교남단\") &\n",
    "                            (df_month_4[\"종점명\"]==\"동작대교북단\")) |  \n",
    "                            ((df_month_4[\"시점명\"]==\"반포대교남단\") &\n",
    "                            (df_month_4[\"종점명\"]==\"반포대교북단\")) | \n",
    "                            ((df_month_4[\"시점명\"]==\"한남대교남단\") & \n",
    "                            (df_month_4[\"종점명\"]==\"한남대교북단\"))]\n",
    "\n",
    "# 5월\n",
    "df_month_5 = df_month_5.loc[((df_month_5[\"시점명\"]==\"한강대교남단교차로\") &\n",
    "                            (df_month_5[\"종점명\"]==\"한강대교북단교차로\")) | \n",
    "                            ((df_month_5[\"시점명\"]==\"동작대교남단\") &\n",
    "                            (df_month_5[\"종점명\"]==\"동작대교북단\")) |  \n",
    "                            ((df_month_5[\"시점명\"]==\"반포대교남단\") &\n",
    "                            (df_month_5[\"종점명\"]==\"반포대교북단\")) | \n",
    "                            ((df_month_5[\"시점명\"]==\"한남대교남단\") & \n",
    "                            (df_month_5[\"종점명\"]==\"한남대교북단\"))]"
   ]
  },
  {
   "cell_type": "code",
   "execution_count": 4,
   "metadata": {},
   "outputs": [],
   "source": [
    "# 탐색 일자 지정\n",
    "df_month_4 = df_month_4.loc[(df_month_4[\"일자\"] > 20220419)]\n",
    "df_month_5 = df_month_5.loc[(df_month_5[\"일자\"] < 20220531)]\n",
    "\n",
    "# 탐색 일자 내 공휴일 제거\n",
    "df_month_5 = df_month_5[df_month_5[\"일자\"] != 20220505] "
   ]
  },
  {
   "cell_type": "code",
   "execution_count": 5,
   "metadata": {},
   "outputs": [],
   "source": [
    "# 탐색 요일 지정\n",
    "df_month_4 = df_month_4.loc[(df_month_4[\"요일\"] != \"토\") & (df_month_4[\"요일\"] != \"일\")]\n",
    "df_month_5 = df_month_5.loc[(df_month_5[\"요일\"] != \"토\") & (df_month_5[\"요일\"] != \"일\")]\n",
    "\n",
    "data = pd.concat([df_month_4, df_month_5])"
   ]
  },
  {
   "cell_type": "code",
   "execution_count": 6,
   "metadata": {},
   "outputs": [],
   "source": [
    "# 탐색 일자 구분: 대통령 취임 전과 후로 구분하였습니다.\n",
    "df_month_5_before = df_month_5.loc[(df_month_5[\"일자\"] < 20220511)]\n",
    "df_month_5_after = df_month_5.loc[(df_month_5[\"일자\"] > 20220510)]"
   ]
  },
  {
   "cell_type": "code",
   "execution_count": 7,
   "metadata": {},
   "outputs": [],
   "source": [
    "# 데이터 병합\n",
    "df_month_4 = pd.concat([df_month_4, df_month_5_before])\n",
    "df_month_5 = df_month_5_after"
   ]
  },
  {
   "cell_type": "code",
   "execution_count": 8,
   "metadata": {},
   "outputs": [],
   "source": [
    "# 탐색 구간 별 분석을 위하여 다음과 같이 분류하였습니다.\n",
    "\n",
    "# 한강대교\n",
    "hangang_month_4 = df_month_4[df_month_4[\"시점명\"] == \"한강대교남단교차로\"]\n",
    "hangang_month_5 = df_month_5[df_month_5[\"시점명\"] == \"한강대교남단교차로\"]\n",
    "hangang = pd.concat([hangang_month_4, hangang_month_5])\n",
    "\n",
    "# 한강대교 - 탐색 시간 지정\n",
    "hangang_month_4 = hangang_month_4[[\"일자\", \"요일\", \"시점명\", \"08시\", \"09시\", \"10시\"]]\n",
    "hangang_month_5 = hangang_month_5[[\"일자\", \"요일\", \"시점명\", \"08시\", \"09시\", \"10시\"]]\n",
    "hangang = hangang[[\"일자\", \"요일\", \"시점명\", \"08시\", \"09시\", \"10시\"]]\n",
    "\n",
    "# 동작대교\n",
    "dongjak_month_4 = df_month_4[df_month_4[\"시점명\"] == \"동작대교남단\"]\n",
    "dongjak_month_5 = df_month_5[df_month_5[\"시점명\"] == \"동작대교남단\"]\n",
    "dongjak = pd.concat([dongjak_month_4, dongjak_month_5])\n",
    "\n",
    "# 동작대교 - 탐색 시간 지정\n",
    "dongjak_month_4 = dongjak_month_4[[\"일자\", \"요일\", \"시점명\", \"08시\", \"09시\", \"10시\"]]\n",
    "dongjak_month_5 = dongjak_month_5[[\"일자\", \"요일\", \"시점명\", \"08시\", \"09시\", \"10시\"]]\n",
    "dongjak = dongjak[[\"일자\", \"요일\", \"시점명\", \"08시\", \"09시\", \"10시\"]]\n",
    "\n",
    "# 반포대교\n",
    "banpo_month_4 = df_month_4[df_month_4[\"시점명\"] == \"반포대교남단\"]\n",
    "banpo_month_5 = df_month_5[df_month_5[\"시점명\"] == \"반포대교남단\"]\n",
    "banpo = pd.concat([banpo_month_4, banpo_month_5])\n",
    "\n",
    "# 반포대교 - 탐색 시간 지정\n",
    "banpo_month_4 = banpo_month_4[[\"일자\", \"요일\", \"시점명\", \"08시\", \"09시\", \"10시\"]]\n",
    "banpo_month_5 = banpo_month_5[[\"일자\", \"요일\", \"시점명\", \"08시\", \"09시\", \"10시\"]]\n",
    "banpo = banpo[[\"일자\", \"요일\", \"시점명\", \"08시\", \"09시\", \"10시\"]]\n",
    "\n",
    "# 한남대교\n",
    "hannam_month_4 = df_month_4[df_month_4[\"시점명\"] == \"한남대교남단\"]\n",
    "hannam_month_5 = df_month_5[df_month_5[\"시점명\"] == \"한남대교남단\"]\n",
    "hannam = pd.concat([hannam_month_4, hannam_month_5])\n",
    "\n",
    "# 한남대교 - 탐색 시간 지정\n",
    "hannam_month_4 = hannam_month_4[[\"일자\", \"요일\", \"시점명\", \"08시\", \"09시\", \"10시\"]]\n",
    "hannam_month_5 = hannam_month_5[[\"일자\", \"요일\", \"시점명\", \"08시\", \"09시\", \"10시\"]]\n",
    "hannam = hannam[[\"일자\", \"요일\", \"시점명\", \"08시\", \"09시\", \"10시\"]]\n",
    "\n",
    "# 잠수교\n",
    "# jamsu_month_4 = df_month_4.loc[df_month_4[\"지점명\"] == \"잠수교\"]\n",
    "# jamsu_month_5 = df_month_5.loc[df_month_5[\"지점명\"] == \"잠수교\"]\n",
    "# jamsu = pd.concat([jamsu_month_4, jamsu_month_5])\n",
    "\n",
    "# 잠수교 - 탐색 시간 지정\n",
    "# jamsu_month_4 = jamsu_month_4[[\"8시\", \"9시\", \"10시\"]]\n",
    "# jamsu_month_5 = jamsu_month_5[[\"8시\", \"9시\", \"10시\"]]\n",
    "# jamsu = jamsu[[\"8시\", \"9시\", \"10시\"]]"
   ]
  },
  {
   "cell_type": "code",
   "execution_count": 9,
   "metadata": {},
   "outputs": [],
   "source": [
    "# 탐색 시간 지정\n",
    "data = data[[\"일자\", \"요일\", \"시점명\", \"08시\", \"09시\", \"10시\"]]\n",
    "df_month_4 = df_month_4[[\"일자\", \"요일\", \"시점명\", \"08시\", \"09시\", \"10시\"]]\n",
    "df_month_5 = df_month_5[[\"일자\", \"요일\", \"시점명\", \"08시\", \"09시\", \"10시\"]]"
   ]
  },
  {
   "cell_type": "markdown",
   "metadata": {},
   "source": [
    "#### 결과 확인"
   ]
  },
  {
   "cell_type": "code",
   "execution_count": 11,
   "metadata": {},
   "outputs": [
    {
     "name": "stdout",
     "output_type": "stream",
     "text": [
      "08시    42.581607\n",
      "09시    34.996964\n",
      "10시    38.107500\n",
      "dtype: float64\n",
      "08시    42.379643\n",
      "09시    34.839643\n",
      "10시    37.659643\n",
      "dtype: float64\n",
      "08시    42.783571\n",
      "09시    35.154286\n",
      "10시    38.555357\n",
      "dtype: float64\n"
     ]
    }
   ],
   "source": [
    "# 전체 데이터의 결과 수치 확인\n",
    "print(data[[\"08시\", \"09시\", \"10시\"]].mean())\n",
    "print(df_month_4[[\"08시\", \"09시\", \"10시\"]].mean())\n",
    "print(df_month_5[[\"08시\", \"09시\", \"10시\"]].mean())"
   ]
  },
  {
   "cell_type": "code",
   "execution_count": 31,
   "metadata": {},
   "outputs": [
    {
     "name": "stdout",
     "output_type": "stream",
     "text": [
      "AxesSubplot(0.125,0.536818;0.227941x0.343182)\n",
      "AxesSubplot(0.398529,0.536818;0.227941x0.343182)\n",
      "AxesSubplot(0.672059,0.536818;0.227941x0.343182)\n"
     ]
    },
    {
     "name": "stderr",
     "output_type": "stream",
     "text": [
      "/Users/zaewoo/miniforge3/envs/workspace/lib/python3.8/site-packages/IPython/core/pylabtools.py:151: UserWarning: Glyph 49884 (\\N{HANGUL SYLLABLE SI}) missing from current font.\n",
      "  fig.canvas.print_figure(bytes_io, **kw)\n"
     ]
    },
    {
     "data": {
      "image/png": "[encoded data removed]",
      "text/plain": [
       "<Figure size 1296x864 with 3 Axes>"
      ]
     },
     "metadata": {
      "needs_background": "light"
     },
     "output_type": "display_data"
    }
   ],
   "source": [
    "# 전체 데이터의 결과 그래프 확인\n",
    "plt.figure(figsize=(18, 12))\n",
    "plt.subplot(231)\n",
    "plt.plot(data[[\"08시\", \"09시\", \"10시\"]].mean())\n",
    "print(data[[\"08시\", \"09시\", \"10시\"]].mean().plot.bar())\n",
    "plt.subplot(232)\n",
    "plt.plot(df_month_4[[\"08시\", \"09시\", \"10시\"]].mean())\n",
    "print(df_month_4[[\"08시\", \"09시\", \"10시\"]].mean().plot.bar())\n",
    "plt.subplot(233)\n",
    "plt.plot(df_month_5[[\"08시\", \"09시\", \"10시\"]].mean())\n",
    "print(df_month_5[[\"08시\", \"09시\", \"10시\"]].mean().plot.bar())"
   ]
  },
  {
   "cell_type": "code",
   "execution_count": 21,
   "metadata": {},
   "outputs": [
    {
     "name": "stdout",
     "output_type": "stream",
     "text": [
      "08시    22.259286\n",
      "09시    14.712143\n",
      "10시    15.350000\n",
      "dtype: float64\n",
      "08시    21.392143\n",
      "09시    13.590714\n",
      "10시    16.370714\n",
      "dtype: float64\n",
      "08시    21.825714\n",
      "09시    14.151429\n",
      "10시    15.860357\n",
      "dtype: float64\n"
     ]
    }
   ],
   "source": [
    "# 한강대교의 결과 수치 확인\n",
    "print(hangang_month_4[[\"08시\", \"09시\", \"10시\"]].mean())\n",
    "print(hangang_month_5[[\"08시\", \"09시\", \"10시\"]].mean())\n",
    "print(hangang[[\"08시\", \"09시\", \"10시\"]].mean())"
   ]
  },
  {
   "cell_type": "code",
   "execution_count": 22,
   "metadata": {},
   "outputs": [
    {
     "name": "stdout",
     "output_type": "stream",
     "text": [
      "AxesSubplot(0.125,0.536818;0.227941x0.343182)\n",
      "AxesSubplot(0.398529,0.536818;0.227941x0.343182)\n",
      "AxesSubplot(0.672059,0.536818;0.227941x0.343182)\n"
     ]
    },
    {
     "name": "stderr",
     "output_type": "stream",
     "text": [
      "/Users/zaewoo/miniforge3/envs/workspace/lib/python3.8/site-packages/IPython/core/pylabtools.py:151: UserWarning: Glyph 49884 (\\N{HANGUL SYLLABLE SI}) missing from current font.\n",
      "  fig.canvas.print_figure(bytes_io, **kw)\n"
     ]
    },
    {
     "data": {
      "image/png": "[encoded data removed]",
      "text/plain": [
       "<Figure size 1296x864 with 3 Axes>"
      ]
     },
     "metadata": {
      "needs_background": "light"
     },
     "output_type": "display_data"
    }
   ],
   "source": [
    "# 한강대교의 결과 그래프 확인\n",
    "plt.figure(figsize=(18, 12))\n",
    "plt.subplot(231)\n",
    "plt.plot(hangang_month_4[[\"08시\", \"09시\", \"10시\"]].mean())\n",
    "print(hangang_month_4[[\"08시\", \"09시\", \"10시\"]].mean().plot.bar())\n",
    "plt.subplot(232)\n",
    "plt.plot(hangang_month_5[[\"08시\", \"09시\", \"10시\"]].mean())\n",
    "print(hangang_month_5[[\"08시\", \"09시\", \"10시\"]].mean().plot.bar())\n",
    "plt.subplot(233)\n",
    "plt.plot(hangang[[\"08시\", \"09시\", \"10시\"]].mean())\n",
    "print(hangang[[\"08시\", \"09시\", \"10시\"]].mean().plot.bar())"
   ]
  },
  {
   "cell_type": "code",
   "execution_count": 23,
   "metadata": {},
   "outputs": [
    {
     "name": "stdout",
     "output_type": "stream",
     "text": [
      "08시    58.174286\n",
      "09시    56.820714\n",
      "10시    57.178571\n",
      "dtype: float64\n",
      "08시    62.823571\n",
      "09시    60.338571\n",
      "10시    60.656429\n",
      "dtype: float64\n",
      "08시    60.498929\n",
      "09시    58.579643\n",
      "10시    58.917500\n",
      "dtype: float64\n"
     ]
    }
   ],
   "source": [
    "# 동작대교의 결과 수치 확인\n",
    "print(dongjak_month_4[[\"08시\", \"09시\", \"10시\"]].mean())\n",
    "print(dongjak_month_5[[\"08시\", \"09시\", \"10시\"]].mean())\n",
    "print(dongjak[[\"08시\", \"09시\", \"10시\"]].mean())"
   ]
  },
  {
   "cell_type": "code",
   "execution_count": 24,
   "metadata": {},
   "outputs": [
    {
     "name": "stdout",
     "output_type": "stream",
     "text": [
      "AxesSubplot(0.125,0.536818;0.227941x0.343182)\n",
      "AxesSubplot(0.398529,0.536818;0.227941x0.343182)\n",
      "AxesSubplot(0.672059,0.536818;0.227941x0.343182)\n"
     ]
    },
    {
     "name": "stderr",
     "output_type": "stream",
     "text": [
      "/Users/zaewoo/miniforge3/envs/workspace/lib/python3.8/site-packages/IPython/core/pylabtools.py:151: UserWarning: Glyph 49884 (\\N{HANGUL SYLLABLE SI}) missing from current font.\n",
      "  fig.canvas.print_figure(bytes_io, **kw)\n"
     ]
    },
    {
     "data": {
      "image/png": "[encoded data removed]",
      "text/plain": [
       "<Figure size 1296x864 with 3 Axes>"
      ]
     },
     "metadata": {
      "needs_background": "light"
     },
     "output_type": "display_data"
    }
   ],
   "source": [
    "# 동작대교의 결과 그래프 확인\n",
    "plt.figure(figsize=(18, 12))\n",
    "plt.subplot(231)\n",
    "plt.plot(dongjak_month_4[[\"08시\", \"09시\", \"10시\"]].mean())\n",
    "print(dongjak_month_4[[\"08시\", \"09시\", \"10시\"]].mean().plot.bar())\n",
    "plt.subplot(232)\n",
    "plt.plot(dongjak_month_5[[\"08시\", \"09시\", \"10시\"]].mean())\n",
    "print(dongjak_month_5[[\"08시\", \"09시\", \"10시\"]].mean().plot.bar())\n",
    "plt.subplot(233)\n",
    "plt.plot(dongjak[[\"08시\", \"09시\", \"10시\"]].mean())\n",
    "print(dongjak[[\"08시\", \"09시\", \"10시\"]].mean().plot.bar())"
   ]
  },
  {
   "cell_type": "code",
   "execution_count": 25,
   "metadata": {},
   "outputs": [
    {
     "name": "stdout",
     "output_type": "stream",
     "text": [
      "08시    50.641429\n",
      "09시    46.371429\n",
      "10시    48.383571\n",
      "dtype: float64\n",
      "08시    50.595000\n",
      "09시    46.918571\n",
      "10시    48.334286\n",
      "dtype: float64\n",
      "08시    50.618214\n",
      "09시    46.645000\n",
      "10시    48.358929\n",
      "dtype: float64\n"
     ]
    }
   ],
   "source": [
    "# 반포대교의 결과 수치 확인\n",
    "print(banpo_month_4[[\"08시\", \"09시\", \"10시\"]].mean())\n",
    "print(banpo_month_5[[\"08시\", \"09시\", \"10시\"]].mean())\n",
    "print(banpo[[\"08시\", \"09시\", \"10시\"]].mean())"
   ]
  },
  {
   "cell_type": "code",
   "execution_count": 26,
   "metadata": {},
   "outputs": [
    {
     "name": "stdout",
     "output_type": "stream",
     "text": [
      "AxesSubplot(0.125,0.536818;0.227941x0.343182)\n",
      "AxesSubplot(0.398529,0.536818;0.227941x0.343182)\n",
      "AxesSubplot(0.672059,0.536818;0.227941x0.343182)\n"
     ]
    },
    {
     "name": "stderr",
     "output_type": "stream",
     "text": [
      "/Users/zaewoo/miniforge3/envs/workspace/lib/python3.8/site-packages/IPython/core/pylabtools.py:151: UserWarning: Glyph 49884 (\\N{HANGUL SYLLABLE SI}) missing from current font.\n",
      "  fig.canvas.print_figure(bytes_io, **kw)\n"
     ]
    },
    {
     "data": {
      "image/png": "[encoded data removed]",
      "text/plain": [
       "<Figure size 1296x864 with 3 Axes>"
      ]
     },
     "metadata": {
      "needs_background": "light"
     },
     "output_type": "display_data"
    }
   ],
   "source": [
    "# 반포대교의 결과 그래프 확인\n",
    "plt.figure(figsize=(18, 12))\n",
    "plt.subplot(231)\n",
    "plt.plot(banpo_month_4[[\"08시\", \"09시\", \"10시\"]].mean())\n",
    "print(banpo_month_4[[\"08시\", \"09시\", \"10시\"]].mean().plot.bar())\n",
    "plt.subplot(232)\n",
    "plt.plot(banpo_month_5[[\"08시\", \"09시\", \"10시\"]].mean())\n",
    "print(banpo_month_5[[\"08시\", \"09시\", \"10시\"]].mean().plot.bar())\n",
    "plt.subplot(233)\n",
    "plt.plot(banpo[[\"08시\", \"09시\", \"10시\"]].mean())\n",
    "print(banpo[[\"08시\", \"09시\", \"10시\"]].mean().plot.bar())"
   ]
  },
  {
   "cell_type": "code",
   "execution_count": 27,
   "metadata": {},
   "outputs": [
    {
     "name": "stdout",
     "output_type": "stream",
     "text": [
      "08시    38.443571\n",
      "09시    21.454286\n",
      "10시    29.726429\n",
      "dtype: float64\n",
      "08시    36.323571\n",
      "09시    19.769286\n",
      "10시    28.860000\n",
      "dtype: float64\n",
      "08시    37.383571\n",
      "09시    20.611786\n",
      "10시    29.293214\n",
      "dtype: float64\n"
     ]
    }
   ],
   "source": [
    "# 한남대교의 결과 확인\n",
    "print(hannam_month_4[[\"08시\", \"09시\", \"10시\"]].mean())\n",
    "print(hannam_month_5[[\"08시\", \"09시\", \"10시\"]].mean())\n",
    "print(hannam[[\"08시\", \"09시\", \"10시\"]].mean())"
   ]
  },
  {
   "cell_type": "code",
   "execution_count": 28,
   "metadata": {},
   "outputs": [
    {
     "name": "stdout",
     "output_type": "stream",
     "text": [
      "AxesSubplot(0.125,0.536818;0.227941x0.343182)\n",
      "AxesSubplot(0.398529,0.536818;0.227941x0.343182)\n",
      "AxesSubplot(0.672059,0.536818;0.227941x0.343182)\n"
     ]
    },
    {
     "name": "stderr",
     "output_type": "stream",
     "text": [
      "/Users/zaewoo/miniforge3/envs/workspace/lib/python3.8/site-packages/IPython/core/pylabtools.py:151: UserWarning: Glyph 49884 (\\N{HANGUL SYLLABLE SI}) missing from current font.\n",
      "  fig.canvas.print_figure(bytes_io, **kw)\n"
     ]
    },
    {
     "data": {
      "image/png": "[encoded data removed]",
      "text/plain": [
       "<Figure size 1296x864 with 3 Axes>"
      ]
     },
     "metadata": {
      "needs_background": "light"
     },
     "output_type": "display_data"
    }
   ],
   "source": [
    "# 한남대교의 결과 그래프 확인\n",
    "plt.figure(figsize=(18, 12))\n",
    "plt.subplot(231)\n",
    "plt.plot(hannam_month_4[[\"08시\", \"09시\", \"10시\"]].mean())\n",
    "print(hannam_month_4[[\"08시\", \"09시\", \"10시\"]].mean().plot.bar())\n",
    "plt.subplot(232)\n",
    "plt.plot(hannam_month_5[[\"08시\", \"09시\", \"10시\"]].mean())\n",
    "print(hannam_month_5[[\"08시\", \"09시\", \"10시\"]].mean().plot.bar())\n",
    "plt.subplot(233)\n",
    "plt.plot(hannam[[\"08시\", \"09시\", \"10시\"]].mean())\n",
    "print(hannam[[\"08시\", \"09시\", \"10시\"]].mean().plot.bar())"
   ]
  },
  {
   "cell_type": "code",
   "execution_count": 30,
   "metadata": {},
   "outputs": [],
   "source": [
    "df_month_4.to_csv(\"./speed/before.csv\")\n",
    "df_month_5.to_csv(\"./speed/after.csv\")\n",
    "data.to_csv(\"./speed/data.csv\")\n",
    "hangang.to_csv(\"./speed/hangang.csv\")\n",
    "dongjak.to_csv(\"./speed/dongjak.csv\")\n",
    "banpo.to_csv(\"./speed/banpo.csv\")\n",
    "hannam.to_csv(\"./speed/hannam.csv\")"
   ]
  }
 ],
 "metadata": {
  "kernelspec": {
   "display_name": "Python 3.8.13 ('workspace')",
   "language": "python",
   "name": "python3"
  },
  "language_info": {
   "codemirror_mode": {
    "name": "ipython",
    "version": 3
   },
   "file_extension": ".py",
   "mimetype": "text/x-python",
   "name": "python",
   "nbconvert_exporter": "python",
   "pygments_lexer": "ipython3",
   "version": "3.8.13"
  },
  "orig_nbformat": 4,
  "vscode": {
   "interpreter": {
    "hash": "8bea183450d7cf8a2b3c53154ad8f0f125116e7c7c1dc9990ddd4f03ccd47efe"
   }
  }
 },
 "nbformat": 4,
 "nbformat_minor": 2
}
