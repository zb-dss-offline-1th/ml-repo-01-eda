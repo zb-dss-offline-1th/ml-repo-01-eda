{
 "cells": [
  {
   "cell_type": "markdown",
   "metadata": {},
   "source": [
    "#### 라이브러리 불러오기"
   ]
  },
  {
   "cell_type": "code",
   "execution_count": 319,
   "metadata": {},
   "outputs": [],
   "source": [
    "import pandas as pd\n",
    "import matplotlib.pyplot as plt\n",
    "\n",
    "# 모든 행과 열을 확인하고 싶으면 다음의 주석을 해제하면 됩니다.\n",
    "# pd.set_option(\"display.max_columns\", None)\n",
    "# pd.set_option(\"display.max_rows\", None)"
   ]
  },
  {
   "cell_type": "markdown",
   "metadata": {},
   "source": [
    "#### 데이터 불러오기"
   ]
  },
  {
   "cell_type": "code",
   "execution_count": 320,
   "metadata": {},
   "outputs": [],
   "source": [
    "# 데이터 경로 지정\n",
    "path_month_4 = \"./차량통행속도/04월 서울시 교통량 조사자료(2022).xlsx\"\n",
    "path_month_5 = \"./차량통행속도/05월 서울시 교통량 조사자료(2022).xlsx\"\n",
    "\n",
    "# 데이터 불러오기\n",
    "df_month_4 = pd.read_excel(path_month_4, sheet_name=\"2022년 04월\")\n",
    "df_month_5 = pd.read_excel(path_month_5, sheet_name=\"2022년 05월\")"
   ]
  },
  {
   "cell_type": "markdown",
   "metadata": {},
   "source": [
    "#### 데이터 전처리"
   ]
  },
  {
   "cell_type": "code",
   "execution_count": 321,
   "metadata": {},
   "outputs": [],
   "source": [
    "# 탐색 구간 지정\n",
    "\n",
    "# 4월\n",
    "df_month_4 = df_month_4.loc[((df_month_4[\"지점명\"]==\"한강대교\") | \n",
    "                            (df_month_4[\"지점명\"]==\"동작대교\") | \n",
    "                            (df_month_4[\"지점명\"]==\"반포대교\") | \n",
    "                            (df_month_4[\"지점명\"]==\"한남대교\") | \n",
    "                            (df_month_4[\"지점명\"]==\"잠수교\")) &\n",
    "                            (df_month_4[\"방향\"]==\"유입\")]\n",
    "\n",
    "# 5월\n",
    "df_month_5 = df_month_5.loc[((df_month_5[\"지점명\"]==\"한강대교\") | \n",
    "                            (df_month_5[\"지점명\"]==\"동작대교\") | \n",
    "                            (df_month_5[\"지점명\"]==\"반포대교\") | \n",
    "                            (df_month_5[\"지점명\"]==\"한남대교\") | \n",
    "                            (df_month_5[\"지점명\"]==\"잠수교\")) &\n",
    "                            (df_month_5[\"방향\"]==\"유입\")]"
   ]
  },
  {
   "cell_type": "code",
   "execution_count": 322,
   "metadata": {},
   "outputs": [],
   "source": [
    "# 탐색 일자 지정\n",
    "df_month_4 = df_month_4.loc[(df_month_4[\"일자\"] > 20220419)]\n",
    "df_month_5 = df_month_5.loc[(df_month_5[\"일자\"] < 20220521)]"
   ]
  },
  {
   "cell_type": "code",
   "execution_count": 323,
   "metadata": {},
   "outputs": [],
   "source": [
    "# 탐색 요일 지정\n",
    "df_month_4 = df_month_4.loc[(df_month_4[\"요일\"] != \"토\") & (df_month_4[\"요일\"] != \"일\")]\n",
    "df_month_5 = df_month_5.loc[(df_month_5[\"요일\"] != \"토\") & (df_month_5[\"요일\"] != \"일\")]\n",
    "\n",
    "data = pd.concat([df_month_4, df_month_5])"
   ]
  },
  {
   "cell_type": "code",
   "execution_count": 289,
   "metadata": {},
   "outputs": [],
   "source": [
    "# 탐색 구간 별 분석을 위하여 다음과 같이 분류하였습니다.\n",
    "\n",
    "# 한강대교\n",
    "hangang_month_4 = df_month_4[df_month_4[\"지점명\"] == \"한강대교\"]\n",
    "hangang_month_5 = df_month_5[df_month_5[\"지점명\"] == \"한강대교\"]\n",
    "hangang = pd.concat([hangang_month_4, hangang_month_5])\n",
    "\n",
    "# 한강대교 - 탐색 시간 지정\n",
    "hangang_month_4 = hangang_month_4[[\"8시\", \"9시\", \"10시\"]]\n",
    "hangang_month_5 = hangang_month_5[[\"8시\", \"9시\", \"10시\"]]\n",
    "hangang = hangang[[\"8시\", \"9시\", \"10시\"]]\n",
    "\n",
    "# 동작대교\n",
    "dongjak_month_4 = df_month_4[df_month_4[\"지점명\"] == \"동작대교\"]\n",
    "dongjak_month_5 = df_month_5[df_month_5[\"지점명\"] == \"동작대교\"]\n",
    "dongjak = pd.concat([dongjak_month_4, dongjak_month_5])\n",
    "\n",
    "# 동작대교 - 탐색 시간 지정\n",
    "dongjak_month_4 = dongjak_month_4[[\"8시\", \"9시\", \"10시\"]]\n",
    "dongjak_month_5 = dongjak_month_5[[\"8시\", \"9시\", \"10시\"]]\n",
    "dongjak = dongjak[[\"8시\", \"9시\", \"10시\"]]\n",
    "\n",
    "# 반포대교\n",
    "banpo_month_4 = df_month_4[df_month_4[\"지점명\"] == \"반포대교\"]\n",
    "banpo_month_5 = df_month_5[df_month_5[\"지점명\"] == \"반포대교\"]\n",
    "banpo = pd.concat([banpo_month_4, banpo_month_5])\n",
    "\n",
    "# 반포대교 - 탐색 시간 지정\n",
    "banpo_month_4 = banpo_month_4[[\"8시\", \"9시\", \"10시\"]]\n",
    "banpo_month_5 = banpo_month_5[[\"8시\", \"9시\", \"10시\"]]\n",
    "banpo = banpo[[\"8시\", \"9시\", \"10시\"]]\n",
    "\n",
    "# 한남대교\n",
    "hannam_month_4 = df_month_4[df_month_4[\"지점명\"] == \"한남대교\"]\n",
    "hannam_month_5 = df_month_5[df_month_5[\"지점명\"] == \"한남대교\"]\n",
    "hannam = pd.concat([hannam_month_4, hannam_month_5])\n",
    "\n",
    "# 한남대교 - 탐색 시간 지정\n",
    "hannam_month_4 = hannam_month_4[[\"8시\", \"9시\", \"10시\"]]\n",
    "hannam_month_5 = hannam_month_5[[\"8시\", \"9시\", \"10시\"]]\n",
    "hannam = hannam[[\"8시\", \"9시\", \"10시\"]]\n",
    "\n",
    "# 잠수교\n",
    "jamsu_month_4 = df_month_4[df_month_4[\"지점명\"] == \"잠수교\"]\n",
    "jamsu_month_5 = df_month_5[df_month_5[\"지점명\"] == \"잠수교\"]\n",
    "jamsu = pd.concat([jamsu_month_4, jamsu_month_5])\n",
    "\n",
    "# 잠수교 - 탐색 시간 지정\n",
    "jamsu_month_4 = jamsu_month_4[[\"8시\", \"9시\", \"10시\"]]\n",
    "jamsu_month_5 = jamsu_month_5[[\"8시\", \"9시\", \"10시\"]]\n",
    "jamsu = hangang[[\"8시\", \"9시\", \"10시\"]]"
   ]
  },
  {
   "cell_type": "code",
   "execution_count": 290,
   "metadata": {},
   "outputs": [],
   "source": [
    "# 탐색 시간 지정\n",
    "data = data[[\"8시\", \"9시\", \"10시\"]]\n",
    "df_month_4 = df_month_4[[\"8시\", \"9시\", \"10시\"]]\n",
    "df_month_5 = df_month_5[[\"8시\", \"9시\", \"10시\"]]"
   ]
  },
  {
   "cell_type": "markdown",
   "metadata": {},
   "source": [
    "#### 결과 확인"
   ]
  },
  {
   "cell_type": "code",
   "execution_count": 291,
   "metadata": {},
   "outputs": [
    {
     "name": "stdout",
     "output_type": "stream",
     "text": [
      "8시     3019.873786\n",
      "9시     2665.223301\n",
      "10시    2519.902913\n",
      "dtype: float64\n",
      "8시     3064.025641\n",
      "9시     2643.871795\n",
      "10시    2486.820513\n",
      "dtype: float64\n",
      "8시     2992.968750\n",
      "9시     2678.234375\n",
      "10시    2540.062500\n",
      "dtype: float64\n"
     ]
    }
   ],
   "source": [
    "# 전체 데이터의 결과 수치 확인\n",
    "print(data.mean())\n",
    "print(df_month_4.mean())\n",
    "print(df_month_5.mean())"
   ]
  },
  {
   "cell_type": "code",
   "execution_count": 313,
   "metadata": {},
   "outputs": [
    {
     "name": "stdout",
     "output_type": "stream",
     "text": [
      "AxesSubplot(0.125,0.536818;0.227941x0.343182)\n",
      "AxesSubplot(0.398529,0.536818;0.227941x0.343182)\n",
      "AxesSubplot(0.672059,0.536818;0.227941x0.343182)\n"
     ]
    },
    {
     "name": "stderr",
     "output_type": "stream",
     "text": [
      "/Users/zaewoo/miniforge3/envs/workspace/lib/python3.8/site-packages/IPython/core/pylabtools.py:151: UserWarning: Glyph 49884 (\\N{HANGUL SYLLABLE SI}) missing from current font.\n",
      "  fig.canvas.print_figure(bytes_io, **kw)\n"
     ]
    },
    {
     "data": {
      "image/png": "[encoded data removed]",
      "text/plain": [
       "<Figure size 1296x864 with 3 Axes>"
      ]
     },
     "metadata": {
      "needs_background": "light"
     },
     "output_type": "display_data"
    }
   ],
   "source": [
    "# 전체 데이터의 결과 그래프 확인\n",
    "plt.figure(figsize=(18, 12))\n",
    "plt.subplot(231)\n",
    "plt.plot(data.mean())\n",
    "print(data.mean().plot.bar())\n",
    "plt.subplot(232)\n",
    "plt.plot(df_month_4.mean())\n",
    "print(df_month_4.mean().plot.bar())\n",
    "plt.subplot(233)\n",
    "plt.plot(df_month_5.mean())\n",
    "print(df_month_5.mean().plot.bar())"
   ]
  },
  {
   "cell_type": "code",
   "execution_count": 279,
   "metadata": {},
   "outputs": [
    {
     "name": "stdout",
     "output_type": "stream",
     "text": [
      "8시     3247.500\n",
      "9시     2966.875\n",
      "10시    2892.125\n",
      "dtype: float64\n",
      "8시     3085.333333\n",
      "9시     3006.666667\n",
      "10시    2925.000000\n",
      "dtype: float64\n",
      "8시     3161.647059\n",
      "9시     2987.941176\n",
      "10시    2909.529412\n",
      "dtype: float64\n"
     ]
    }
   ],
   "source": [
    "# 한강대교의 결과 수치 확인\n",
    "print(hangang_month_4.mean())\n",
    "print(hangang_month_5.mean())\n",
    "print(hangang.mean())"
   ]
  },
  {
   "cell_type": "code",
   "execution_count": 314,
   "metadata": {},
   "outputs": [
    {
     "name": "stdout",
     "output_type": "stream",
     "text": [
      "AxesSubplot(0.125,0.536818;0.227941x0.343182)\n",
      "AxesSubplot(0.398529,0.536818;0.227941x0.343182)\n",
      "AxesSubplot(0.672059,0.536818;0.227941x0.343182)\n"
     ]
    },
    {
     "name": "stderr",
     "output_type": "stream",
     "text": [
      "/Users/zaewoo/miniforge3/envs/workspace/lib/python3.8/site-packages/IPython/core/pylabtools.py:151: UserWarning: Glyph 49884 (\\N{HANGUL SYLLABLE SI}) missing from current font.\n",
      "  fig.canvas.print_figure(bytes_io, **kw)\n"
     ]
    },
    {
     "data": {
      "image/png": "[encoded data removed]",
      "text/plain": [
       "<Figure size 1296x864 with 3 Axes>"
      ]
     },
     "metadata": {
      "needs_background": "light"
     },
     "output_type": "display_data"
    }
   ],
   "source": [
    "# 한강대교의 결과 그래프 확인\n",
    "plt.figure(figsize=(18, 12))\n",
    "plt.subplot(231)\n",
    "plt.plot(hangang_month_4.mean())\n",
    "print(hangang_month_4.mean().plot.bar())\n",
    "plt.subplot(232)\n",
    "plt.plot(hangang_month_5.mean())\n",
    "print(hangang_month_5.mean().plot.bar())\n",
    "plt.subplot(233)\n",
    "plt.plot(hangang.mean())\n",
    "print(hangang.mean().plot.bar())"
   ]
  },
  {
   "cell_type": "code",
   "execution_count": 280,
   "metadata": {},
   "outputs": [
    {
     "name": "stdout",
     "output_type": "stream",
     "text": [
      "8시     2247.714286\n",
      "9시     1604.142857\n",
      "10시    1451.571429\n",
      "dtype: float64\n",
      "8시     2197.615385\n",
      "9시     1702.692308\n",
      "10시    1549.769231\n",
      "dtype: float64\n",
      "8시     2215.15\n",
      "9시     1668.20\n",
      "10시    1515.40\n",
      "dtype: float64\n"
     ]
    }
   ],
   "source": [
    "# 동작대교의 결과 수치 확인\n",
    "print(dongjak_month_4.mean())\n",
    "print(dongjak_month_5.mean())\n",
    "print(dongjak.mean())"
   ]
  },
  {
   "cell_type": "code",
   "execution_count": 315,
   "metadata": {},
   "outputs": [
    {
     "name": "stdout",
     "output_type": "stream",
     "text": [
      "AxesSubplot(0.125,0.536818;0.227941x0.343182)\n",
      "AxesSubplot(0.398529,0.536818;0.227941x0.343182)\n",
      "AxesSubplot(0.672059,0.536818;0.227941x0.343182)\n"
     ]
    },
    {
     "name": "stderr",
     "output_type": "stream",
     "text": [
      "/Users/zaewoo/miniforge3/envs/workspace/lib/python3.8/site-packages/IPython/core/pylabtools.py:151: UserWarning: Glyph 49884 (\\N{HANGUL SYLLABLE SI}) missing from current font.\n",
      "  fig.canvas.print_figure(bytes_io, **kw)\n"
     ]
    },
    {
     "data": {
      "image/png": "[encoded data removed]",
      "text/plain": [
       "<Figure size 1296x864 with 3 Axes>"
      ]
     },
     "metadata": {
      "needs_background": "light"
     },
     "output_type": "display_data"
    }
   ],
   "source": [
    "plt.figure(figsize=(18, 12))\n",
    "plt.subplot(231)\n",
    "plt.plot(dongjak_month_4.mean())\n",
    "print(dongjak_month_4.mean().plot.bar())\n",
    "plt.subplot(232)\n",
    "plt.plot(dongjak_month_5.mean())\n",
    "print(dongjak_month_5.mean().plot.bar())\n",
    "plt.subplot(233)\n",
    "plt.plot(dongjak.mean())\n",
    "print(dongjak.mean().plot.bar())"
   ]
  },
  {
   "cell_type": "code",
   "execution_count": 276,
   "metadata": {},
   "outputs": [
    {
     "name": "stdout",
     "output_type": "stream",
     "text": [
      "8시     3603.125\n",
      "9시     3137.000\n",
      "10시    2920.500\n",
      "dtype: float64\n",
      "8시     3595.428571\n",
      "9시     3217.000000\n",
      "10시    2952.428571\n",
      "dtype: float64\n",
      "8시     3598.227273\n",
      "9시     3187.909091\n",
      "10시    2940.818182\n",
      "dtype: float64\n"
     ]
    }
   ],
   "source": [
    "# 반포대교의 결과 수치 확인\n",
    "print(banpo_month_4.mean())\n",
    "print(banpo_month_5.mean())\n",
    "print(banpo.mean())"
   ]
  },
  {
   "cell_type": "code",
   "execution_count": 316,
   "metadata": {},
   "outputs": [
    {
     "name": "stdout",
     "output_type": "stream",
     "text": [
      "AxesSubplot(0.125,0.536818;0.227941x0.343182)\n",
      "AxesSubplot(0.398529,0.536818;0.227941x0.343182)\n",
      "AxesSubplot(0.672059,0.536818;0.227941x0.343182)\n"
     ]
    },
    {
     "name": "stderr",
     "output_type": "stream",
     "text": [
      "/Users/zaewoo/miniforge3/envs/workspace/lib/python3.8/site-packages/IPython/core/pylabtools.py:151: UserWarning: Glyph 49884 (\\N{HANGUL SYLLABLE SI}) missing from current font.\n",
      "  fig.canvas.print_figure(bytes_io, **kw)\n"
     ]
    },
    {
     "data": {
      "image/png": "[encoded data removed]",
      "text/plain": [
       "<Figure size 1296x864 with 3 Axes>"
      ]
     },
     "metadata": {
      "needs_background": "light"
     },
     "output_type": "display_data"
    }
   ],
   "source": [
    "# 반포대교의 결과 그래프 확인\n",
    "plt.figure(figsize=(18, 12))\n",
    "plt.subplot(231)\n",
    "plt.plot(banpo_month_4.mean())\n",
    "print(banpo_month_4.mean().plot.bar())\n",
    "plt.subplot(232)\n",
    "plt.plot(banpo_month_5.mean())\n",
    "print(banpo_month_5.mean().plot.bar())\n",
    "plt.subplot(233)\n",
    "plt.plot(banpo.mean())\n",
    "print(banpo.mean().plot.bar())"
   ]
  },
  {
   "cell_type": "code",
   "execution_count": 277,
   "metadata": {},
   "outputs": [
    {
     "name": "stdout",
     "output_type": "stream",
     "text": [
      "8시     5612.750\n",
      "9시     4949.125\n",
      "10시    4596.375\n",
      "dtype: float64\n",
      "8시     5539.357143\n",
      "9시     5086.357143\n",
      "10시    4870.928571\n",
      "dtype: float64\n",
      "8시     5566.045455\n",
      "9시     5036.454545\n",
      "10시    4771.090909\n",
      "dtype: float64\n"
     ]
    }
   ],
   "source": [
    "# 한남대교의 결과 확인\n",
    "print(hannam_month_4.mean())\n",
    "print(hannam_month_5.mean())\n",
    "print(hannam.mean())"
   ]
  },
  {
   "cell_type": "code",
   "execution_count": 317,
   "metadata": {},
   "outputs": [
    {
     "name": "stdout",
     "output_type": "stream",
     "text": [
      "AxesSubplot(0.125,0.536818;0.227941x0.343182)\n",
      "AxesSubplot(0.398529,0.536818;0.227941x0.343182)\n",
      "AxesSubplot(0.672059,0.536818;0.227941x0.343182)\n"
     ]
    },
    {
     "name": "stderr",
     "output_type": "stream",
     "text": [
      "/Users/zaewoo/miniforge3/envs/workspace/lib/python3.8/site-packages/IPython/core/pylabtools.py:151: UserWarning: Glyph 49884 (\\N{HANGUL SYLLABLE SI}) missing from current font.\n",
      "  fig.canvas.print_figure(bytes_io, **kw)\n"
     ]
    },
    {
     "data": {
      "image/png": "[encoded data removed]",
      "text/plain": [
       "<Figure size 1296x864 with 3 Axes>"
      ]
     },
     "metadata": {
      "needs_background": "light"
     },
     "output_type": "display_data"
    }
   ],
   "source": [
    "# 한남대교의 결과 그래프 확인\n",
    "plt.figure(figsize=(18, 12))\n",
    "plt.subplot(231)\n",
    "plt.plot(hannam_month_4.mean())\n",
    "print(hannam_month_4.mean().plot.bar())\n",
    "plt.subplot(232)\n",
    "plt.plot(hannam_month_5.mean())\n",
    "print(hannam_month_5.mean().plot.bar())\n",
    "plt.subplot(233)\n",
    "plt.plot(hannam.mean())\n",
    "print(hannam.mean().plot.bar())"
   ]
  },
  {
   "cell_type": "code",
   "execution_count": 281,
   "metadata": {},
   "outputs": [
    {
     "name": "stdout",
     "output_type": "stream",
     "text": [
      "8시     507.000\n",
      "9시     432.250\n",
      "10시    444.125\n",
      "dtype: float64\n",
      "8시     523.285714\n",
      "9시     426.071429\n",
      "10시    468.928571\n",
      "dtype: float64\n",
      "8시     3161.647059\n",
      "9시     2987.941176\n",
      "10시    2909.529412\n",
      "dtype: float64\n"
     ]
    }
   ],
   "source": [
    "# 잠수교의 결과 확인\n",
    "print(jamsu_month_4.mean())\n",
    "print(jamsu_month_5.mean())\n",
    "print(jamsu.mean())"
   ]
  },
  {
   "cell_type": "code",
   "execution_count": 318,
   "metadata": {},
   "outputs": [
    {
     "name": "stdout",
     "output_type": "stream",
     "text": [
      "AxesSubplot(0.125,0.536818;0.227941x0.343182)\n",
      "AxesSubplot(0.398529,0.536818;0.227941x0.343182)\n",
      "AxesSubplot(0.672059,0.536818;0.227941x0.343182)\n"
     ]
    },
    {
     "name": "stderr",
     "output_type": "stream",
     "text": [
      "/Users/zaewoo/miniforge3/envs/workspace/lib/python3.8/site-packages/IPython/core/pylabtools.py:151: UserWarning: Glyph 49884 (\\N{HANGUL SYLLABLE SI}) missing from current font.\n",
      "  fig.canvas.print_figure(bytes_io, **kw)\n"
     ]
    },
    {
     "data": {
      "image/png": "[encoded data removed]",
      "text/plain": [
       "<Figure size 1296x864 with 3 Axes>"
      ]
     },
     "metadata": {
      "needs_background": "light"
     },
     "output_type": "display_data"
    }
   ],
   "source": [
    "# 잠수교의 결과 그래프 확인\n",
    "plt.figure(figsize=(18, 12))\n",
    "plt.subplot(231)\n",
    "plt.plot(jamsu_month_4.mean())\n",
    "print(jamsu_month_4.mean().plot.bar())\n",
    "plt.subplot(232)\n",
    "plt.plot(jamsu_month_5.mean())\n",
    "print(jamsu_month_5.mean().plot.bar())\n",
    "plt.subplot(233)\n",
    "plt.plot(jamsu.mean())\n",
    "print(jamsu.mean().plot.bar())"
   ]
  }
 ],
 "metadata": {
  "kernelspec": {
   "display_name": "Python 3.8.13 ('workspace')",
   "language": "python",
   "name": "python3"
  },
  "language_info": {
   "codemirror_mode": {
    "name": "ipython",
    "version": 3
   },
   "file_extension": ".py",
   "mimetype": "text/x-python",
   "name": "python",
   "nbconvert_exporter": "python",
   "pygments_lexer": "ipython3",
   "version": "3.8.13"
  },
  "orig_nbformat": 4,
  "vscode": {
   "interpreter": {
    "hash": "8bea183450d7cf8a2b3c53154ad8f0f125116e7c7c1dc9990ddd4f03ccd47efe"
   }
  }
 },
 "nbformat": 4,
 "nbformat_minor": 2
}
