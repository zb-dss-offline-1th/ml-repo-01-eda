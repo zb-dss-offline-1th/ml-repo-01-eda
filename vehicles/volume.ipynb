{
 "cells": [
  {
   "cell_type": "markdown",
   "metadata": {},
   "source": [
    "#### 라이브러리 불러오기"
   ]
  },
  {
   "cell_type": "code",
   "execution_count": 51,
   "metadata": {},
   "outputs": [],
   "source": [
    "import pandas as pd\n",
    "import matplotlib.pyplot as plt\n",
    "\n",
    "# 모든 행과 열을 확인하고 싶으면 다음의 주석을 해제하면 됩니다.\n",
    "pd.set_option(\"display.max_columns\", None)\n",
    "pd.set_option(\"display.max_rows\", None)"
   ]
  },
  {
   "cell_type": "markdown",
   "metadata": {},
   "source": [
    "#### 데이터 불러오기"
   ]
  },
  {
   "cell_type": "code",
   "execution_count": 52,
   "metadata": {},
   "outputs": [],
   "source": [
    "# 데이터 경로 지정\n",
    "path_month_4 = \"/Users/zaewoo/Downloads/서울시교통관련데이터/차량통행속도/04월 서울시 교통량 조사자료(2022).xlsx\"\n",
    "path_month_5 = \"/Users/zaewoo/Downloads/서울시교통관련데이터/차량통행속도/05월 서울시 교통량 조사자료(2022).xlsx\"\n",
    "\n",
    "# 데이터 불러오기\n",
    "df_month_4 = pd.read_excel(path_month_4, sheet_name=\"2022년 04월\")\n",
    "df_month_5 = pd.read_excel(path_month_5, sheet_name=\"2022년 05월\")"
   ]
  },
  {
   "cell_type": "markdown",
   "metadata": {},
   "source": [
    "#### 데이터 전처리"
   ]
  },
  {
   "cell_type": "code",
   "execution_count": 53,
   "metadata": {},
   "outputs": [],
   "source": [
    "# 탐색 구간 지정\n",
    "\n",
    "# 4월\n",
    "df_month_4 = df_month_4.loc[((df_month_4[\"지점명\"]==\"한강대교\") | \n",
    "                            (df_month_4[\"지점명\"]==\"동작대교\") | \n",
    "                            (df_month_4[\"지점명\"]==\"반포대교\") | \n",
    "                            (df_month_4[\"지점명\"]==\"한남대교\") | \n",
    "                            (df_month_4[\"지점명\"]==\"잠수교\")) &\n",
    "                            (df_month_4[\"방향\"]==\"유입\")]\n",
    "\n",
    "# 5월\n",
    "df_month_5 = df_month_5.loc[((df_month_5[\"지점명\"]==\"한강대교\") | \n",
    "                            (df_month_5[\"지점명\"]==\"동작대교\") | \n",
    "                            (df_month_5[\"지점명\"]==\"반포대교\") | \n",
    "                            (df_month_5[\"지점명\"]==\"한남대교\") | \n",
    "                            (df_month_5[\"지점명\"]==\"잠수교\")) &\n",
    "                            (df_month_5[\"방향\"]==\"유입\")]"
   ]
  },
  {
   "cell_type": "code",
   "execution_count": 54,
   "metadata": {},
   "outputs": [],
   "source": [
    "# 탐색 일자 지정\n",
    "df_month_4 = df_month_4.loc[(df_month_4[\"일자\"] > 20220419)]\n",
    "df_month_5 = df_month_5.loc[(df_month_5[\"일자\"] < 20220531)]\n",
    "\n",
    "# 탐색 일자 내 공휴일 제거\n",
    "df_month_5 = df_month_5[df_month_5[\"일자\"] != 20220505] "
   ]
  },
  {
   "cell_type": "code",
   "execution_count": 55,
   "metadata": {},
   "outputs": [],
   "source": [
    "# 탐색 요일 지정\n",
    "df_month_4 = df_month_4.loc[(df_month_4[\"요일\"] != \"토\") & (df_month_4[\"요일\"] != \"일\")]\n",
    "df_month_5 = df_month_5.loc[(df_month_5[\"요일\"] != \"토\") & (df_month_5[\"요일\"] != \"일\")]\n",
    "\n",
    "data = pd.concat([df_month_4, df_month_5])"
   ]
  },
  {
   "cell_type": "code",
   "execution_count": 56,
   "metadata": {},
   "outputs": [],
   "source": [
    "# 탐색 일자 구분: 대통령 취임 전과 후로 구분하였습니다.\n",
    "df_month_5_before = df_month_5.loc[(df_month_5[\"일자\"] < 20220511)]\n",
    "df_month_5_after = df_month_5.loc[(df_month_5[\"일자\"] > 20220510)]"
   ]
  },
  {
   "cell_type": "code",
   "execution_count": 57,
   "metadata": {},
   "outputs": [],
   "source": [
    "# 데이터 병합\n",
    "df_month_4 = pd.concat([df_month_4, df_month_5_before])\n",
    "df_month_5 = df_month_5_after"
   ]
  },
  {
   "cell_type": "code",
   "execution_count": 58,
   "metadata": {},
   "outputs": [],
   "source": [
    "# 탐색 구간 별 분석을 위하여 다음과 같이 분류하였습니다.\n",
    "\n",
    "# 한강대교\n",
    "hangang_month_4 = df_month_4[df_month_4[\"지점명\"] == \"한강대교\"]\n",
    "hangang_month_5 = df_month_5[df_month_5[\"지점명\"] == \"한강대교\"]\n",
    "hangang = pd.concat([hangang_month_4, hangang_month_5])\n",
    "\n",
    "# 한강대교 - 탐색 시간 지정\n",
    "hangang_month_4 = hangang_month_4[[\"8시\", \"9시\", \"10시\"]]\n",
    "hangang_month_5 = hangang_month_5[[\"8시\", \"9시\", \"10시\"]]\n",
    "hangang = hangang[[\"8시\", \"9시\", \"10시\"]]\n",
    "\n",
    "# 한강대교 - 결측치: 기준 컬럼의 평균을 결측치에 대입하였습니다.\n",
    "hangang_month_4.fillna(hangang_month_4.mean())\n",
    "hangang_month_5.fillna(hangang_month_5.mean())\n",
    "hangang.fillna(hangang.mean())\n",
    "\n",
    "# 동작대교\n",
    "dongjak_month_4 = df_month_4[df_month_4[\"지점명\"] == \"동작대교\"]\n",
    "dongjak_month_5 = df_month_5[df_month_5[\"지점명\"] == \"동작대교\"]\n",
    "dongjak = pd.concat([dongjak_month_4, dongjak_month_5])\n",
    "\n",
    "# 동작대교 - 탐색 시간 지정\n",
    "dongjak_month_4 = dongjak_month_4[[\"8시\", \"9시\", \"10시\"]]\n",
    "dongjak_month_5 = dongjak_month_5[[\"8시\", \"9시\", \"10시\"]]\n",
    "dongjak = dongjak[[\"8시\", \"9시\", \"10시\"]]\n",
    "\n",
    "# 동작대교 - 결측치: 기준 컬럼의 평균을 결측치에 대입하였습니다.\n",
    "dongjak_month_4.fillna(dongjak_month_4.mean())\n",
    "dongjak_month_5.fillna(dongjak_month_5.mean())\n",
    "dongjak.fillna(dongjak.mean())\n",
    "\n",
    "# 반포대교\n",
    "banpo_month_4 = df_month_4[df_month_4[\"지점명\"] == \"반포대교\"]\n",
    "banpo_month_5 = df_month_5[df_month_5[\"지점명\"] == \"반포대교\"]\n",
    "banpo = pd.concat([banpo_month_4, banpo_month_5])\n",
    "\n",
    "# 반포대교 - 탐색 시간 지정\n",
    "banpo_month_4 = banpo_month_4[[\"8시\", \"9시\", \"10시\"]]\n",
    "banpo_month_5 = banpo_month_5[[\"8시\", \"9시\", \"10시\"]]\n",
    "banpo = banpo[[\"8시\", \"9시\", \"10시\"]]\n",
    "\n",
    "# 한남대교\n",
    "hannam_month_4 = df_month_4[df_month_4[\"지점명\"] == \"한남대교\"]\n",
    "hannam_month_5 = df_month_5[df_month_5[\"지점명\"] == \"한남대교\"]\n",
    "hannam = pd.concat([hannam_month_4, hannam_month_5])\n",
    "\n",
    "# 한남대교 - 탐색 시간 지정\n",
    "hannam_month_4 = hannam_month_4[[\"8시\", \"9시\", \"10시\"]]\n",
    "hannam_month_5 = hannam_month_5[[\"8시\", \"9시\", \"10시\"]]\n",
    "hannam = hannam[[\"8시\", \"9시\", \"10시\"]]\n",
    "\n",
    "# 잠수교\n",
    "jamsu_month_4 = df_month_4[df_month_4[\"지점명\"] == \"잠수교\"]\n",
    "jamsu_month_5 = df_month_5[df_month_5[\"지점명\"] == \"잠수교\"]\n",
    "jamsu = pd.concat([jamsu_month_4, jamsu_month_5])\n",
    "\n",
    "# 잠수교 - 탐색 시간 지정\n",
    "jamsu_month_4 = jamsu_month_4[[\"8시\", \"9시\", \"10시\"]]\n",
    "jamsu_month_5 = jamsu_month_5[[\"8시\", \"9시\", \"10시\"]]\n",
    "jamsu = hangang[[\"8시\", \"9시\", \"10시\"]]"
   ]
  },
  {
   "cell_type": "code",
   "execution_count": 59,
   "metadata": {},
   "outputs": [],
   "source": [
    "# 탐색 시간 지정\n",
    "data = data[[\"8시\", \"9시\", \"10시\"]]\n",
    "df_month_4 = df_month_4[[\"8시\", \"9시\", \"10시\"]]\n",
    "df_month_5 = df_month_5[[\"8시\", \"9시\", \"10시\"]]"
   ]
  },
  {
   "cell_type": "markdown",
   "metadata": {},
   "source": [
    "#### 결과 확인"
   ]
  },
  {
   "cell_type": "code",
   "execution_count": 60,
   "metadata": {},
   "outputs": [
    {
     "name": "stdout",
     "output_type": "stream",
     "text": [
      "8시     3010.046154\n",
      "9시     2660.376923\n",
      "10시    2507.400000\n",
      "dtype: float64\n",
      "8시     3041.970588\n",
      "9시     2671.132353\n",
      "10시    2522.661765\n",
      "dtype: float64\n",
      "8시     2975.032258\n",
      "9시     2648.580645\n",
      "10시    2490.661290\n",
      "dtype: float64\n"
     ]
    }
   ],
   "source": [
    "# 전체 데이터의 결과 수치 확인\n",
    "print(data.mean())\n",
    "print(df_month_4.mean())\n",
    "print(df_month_5.mean())"
   ]
  },
  {
   "cell_type": "code",
   "execution_count": 61,
   "metadata": {},
   "outputs": [
    {
     "name": "stdout",
     "output_type": "stream",
     "text": [
      "AxesSubplot(0.125,0.536818;0.227941x0.343182)\n",
      "AxesSubplot(0.398529,0.536818;0.227941x0.343182)\n",
      "AxesSubplot(0.672059,0.536818;0.227941x0.343182)\n"
     ]
    },
    {
     "name": "stderr",
     "output_type": "stream",
     "text": [
      "/Users/zaewoo/miniforge3/envs/workspace/lib/python3.8/site-packages/IPython/core/pylabtools.py:151: UserWarning: Glyph 49884 (\\N{HANGUL SYLLABLE SI}) missing from current font.\n",
      "  fig.canvas.print_figure(bytes_io, **kw)\n"
     ]
    },
    {
     "data": {
      "image/png": "[encoded data removed]",
      "text/plain": [
       "<Figure size 1296x864 with 3 Axes>"
      ]
     },
     "metadata": {
      "needs_background": "light"
     },
     "output_type": "display_data"
    }
   ],
   "source": [
    "# 전체 데이터의 결과 그래프 확인\n",
    "plt.figure(figsize=(18, 12))\n",
    "plt.subplot(231)\n",
    "plt.plot(data.mean())\n",
    "print(data.mean().plot.bar())\n",
    "plt.subplot(232)\n",
    "plt.plot(df_month_4.mean())\n",
    "print(df_month_4.mean().plot.bar())\n",
    "plt.subplot(233)\n",
    "plt.plot(df_month_5.mean())\n",
    "print(df_month_5.mean().plot.bar())"
   ]
  },
  {
   "cell_type": "code",
   "execution_count": 62,
   "metadata": {},
   "outputs": [
    {
     "name": "stdout",
     "output_type": "stream",
     "text": [
      "8시     3206.571429\n",
      "9시     2988.428571\n",
      "10시    2901.500000\n",
      "dtype: float64\n",
      "8시     2959.000000\n",
      "9시     2972.333333\n",
      "10시    2832.333333\n",
      "dtype: float64\n",
      "8시     3132.30\n",
      "9시     2983.60\n",
      "10시    2880.75\n",
      "dtype: float64\n"
     ]
    }
   ],
   "source": [
    "# 한강대교의 결과 수치 확인\n",
    "print(hangang_month_4.mean())\n",
    "print(hangang_month_5.mean())\n",
    "print(hangang.mean())"
   ]
  },
  {
   "cell_type": "code",
   "execution_count": 63,
   "metadata": {},
   "outputs": [
    {
     "name": "stdout",
     "output_type": "stream",
     "text": [
      "AxesSubplot(0.125,0.536818;0.227941x0.343182)\n",
      "AxesSubplot(0.398529,0.536818;0.227941x0.343182)\n",
      "AxesSubplot(0.672059,0.536818;0.227941x0.343182)\n"
     ]
    },
    {
     "name": "stderr",
     "output_type": "stream",
     "text": [
      "/Users/zaewoo/miniforge3/envs/workspace/lib/python3.8/site-packages/IPython/core/pylabtools.py:151: UserWarning: Glyph 49884 (\\N{HANGUL SYLLABLE SI}) missing from current font.\n",
      "  fig.canvas.print_figure(bytes_io, **kw)\n"
     ]
    },
    {
     "data": {
      "image/png": "[encoded data removed]",
      "text/plain": [
       "<Figure size 1296x864 with 3 Axes>"
      ]
     },
     "metadata": {
      "needs_background": "light"
     },
     "output_type": "display_data"
    }
   ],
   "source": [
    "# 한강대교의 결과 그래프 확인\n",
    "plt.figure(figsize=(18, 12))\n",
    "plt.subplot(231)\n",
    "plt.plot(hangang_month_4.mean())\n",
    "print(hangang_month_4.mean().plot.bar())\n",
    "plt.subplot(232)\n",
    "plt.plot(hangang_month_5.mean())\n",
    "print(hangang_month_5.mean().plot.bar())\n",
    "plt.subplot(233)\n",
    "plt.plot(hangang.mean())\n",
    "print(hangang.mean().plot.bar())"
   ]
  },
  {
   "cell_type": "code",
   "execution_count": 64,
   "metadata": {},
   "outputs": [
    {
     "name": "stdout",
     "output_type": "stream",
     "text": [
      "8시     2207.000000\n",
      "9시     1643.000000\n",
      "10시    1503.416667\n",
      "dtype: float64\n",
      "8시     2263.714286\n",
      "9시     1703.500000\n",
      "10시    1515.214286\n",
      "dtype: float64\n",
      "8시     2237.538462\n",
      "9시     1675.576923\n",
      "10시    1509.769231\n",
      "dtype: float64\n"
     ]
    }
   ],
   "source": [
    "# 동작대교의 결과 수치 확인\n",
    "print(dongjak_month_4.mean())\n",
    "print(dongjak_month_5.mean())\n",
    "print(dongjak.mean())"
   ]
  },
  {
   "cell_type": "code",
   "execution_count": 65,
   "metadata": {},
   "outputs": [
    {
     "name": "stdout",
     "output_type": "stream",
     "text": [
      "AxesSubplot(0.125,0.536818;0.227941x0.343182)\n",
      "AxesSubplot(0.398529,0.536818;0.227941x0.343182)\n",
      "AxesSubplot(0.672059,0.536818;0.227941x0.343182)\n"
     ]
    },
    {
     "name": "stderr",
     "output_type": "stream",
     "text": [
      "/Users/zaewoo/miniforge3/envs/workspace/lib/python3.8/site-packages/IPython/core/pylabtools.py:151: UserWarning: Glyph 49884 (\\N{HANGUL SYLLABLE SI}) missing from current font.\n",
      "  fig.canvas.print_figure(bytes_io, **kw)\n"
     ]
    },
    {
     "data": {
      "image/png": "[encoded data removed]",
      "text/plain": [
       "<Figure size 1296x864 with 3 Axes>"
      ]
     },
     "metadata": {
      "needs_background": "light"
     },
     "output_type": "display_data"
    }
   ],
   "source": [
    "# 동작대교의 결과 그래프 확인\n",
    "plt.figure(figsize=(18, 12))\n",
    "plt.subplot(231)\n",
    "plt.plot(dongjak_month_4.mean())\n",
    "print(dongjak_month_4.mean().plot.bar())\n",
    "plt.subplot(232)\n",
    "plt.plot(dongjak_month_5.mean())\n",
    "print(dongjak_month_5.mean().plot.bar())\n",
    "plt.subplot(233)\n",
    "plt.plot(dongjak.mean())\n",
    "print(dongjak.mean().plot.bar())"
   ]
  },
  {
   "cell_type": "code",
   "execution_count": 66,
   "metadata": {},
   "outputs": [
    {
     "name": "stdout",
     "output_type": "stream",
     "text": [
      "8시     3605.142857\n",
      "9시     3202.714286\n",
      "10시    2930.928571\n",
      "dtype: float64\n",
      "8시     3608.714286\n",
      "9시     3187.500000\n",
      "10시    2946.500000\n",
      "dtype: float64\n",
      "8시     3606.928571\n",
      "9시     3195.107143\n",
      "10시    2938.714286\n",
      "dtype: float64\n"
     ]
    }
   ],
   "source": [
    "# 반포대교의 결과 수치 확인\n",
    "print(banpo_month_4.mean())\n",
    "print(banpo_month_5.mean())\n",
    "print(banpo.mean())"
   ]
  },
  {
   "cell_type": "code",
   "execution_count": 67,
   "metadata": {},
   "outputs": [
    {
     "name": "stdout",
     "output_type": "stream",
     "text": [
      "AxesSubplot(0.125,0.536818;0.227941x0.343182)\n",
      "AxesSubplot(0.398529,0.536818;0.227941x0.343182)\n",
      "AxesSubplot(0.672059,0.536818;0.227941x0.343182)\n"
     ]
    },
    {
     "name": "stderr",
     "output_type": "stream",
     "text": [
      "/Users/zaewoo/miniforge3/envs/workspace/lib/python3.8/site-packages/IPython/core/pylabtools.py:151: UserWarning: Glyph 49884 (\\N{HANGUL SYLLABLE SI}) missing from current font.\n",
      "  fig.canvas.print_figure(bytes_io, **kw)\n"
     ]
    },
    {
     "data": {
      "image/png": "[encoded data removed]",
      "text/plain": [
       "<Figure size 1296x864 with 3 Axes>"
      ]
     },
     "metadata": {
      "needs_background": "light"
     },
     "output_type": "display_data"
    }
   ],
   "source": [
    "# 반포대교의 결과 그래프 확인\n",
    "plt.figure(figsize=(18, 12))\n",
    "plt.subplot(231)\n",
    "plt.plot(banpo_month_4.mean())\n",
    "print(banpo_month_4.mean().plot.bar())\n",
    "plt.subplot(232)\n",
    "plt.plot(banpo_month_5.mean())\n",
    "print(banpo_month_5.mean().plot.bar())\n",
    "plt.subplot(233)\n",
    "plt.plot(banpo.mean())\n",
    "print(banpo.mean().plot.bar())"
   ]
  },
  {
   "cell_type": "code",
   "execution_count": 68,
   "metadata": {},
   "outputs": [
    {
     "name": "stdout",
     "output_type": "stream",
     "text": [
      "8시     5559.642857\n",
      "9시     4956.214286\n",
      "10시    4687.357143\n",
      "dtype: float64\n",
      "8시     5512.500000\n",
      "9시     5105.785714\n",
      "10시    4860.714286\n",
      "dtype: float64\n",
      "8시     5536.071429\n",
      "9시     5031.000000\n",
      "10시    4774.035714\n",
      "dtype: float64\n"
     ]
    }
   ],
   "source": [
    "# 한남대교의 결과 확인\n",
    "print(hannam_month_4.mean())\n",
    "print(hannam_month_5.mean())\n",
    "print(hannam.mean())"
   ]
  },
  {
   "cell_type": "code",
   "execution_count": 69,
   "metadata": {},
   "outputs": [
    {
     "name": "stdout",
     "output_type": "stream",
     "text": [
      "AxesSubplot(0.125,0.536818;0.227941x0.343182)\n",
      "AxesSubplot(0.398529,0.536818;0.227941x0.343182)\n",
      "AxesSubplot(0.672059,0.536818;0.227941x0.343182)\n"
     ]
    },
    {
     "name": "stderr",
     "output_type": "stream",
     "text": [
      "/Users/zaewoo/miniforge3/envs/workspace/lib/python3.8/site-packages/IPython/core/pylabtools.py:151: UserWarning: Glyph 49884 (\\N{HANGUL SYLLABLE SI}) missing from current font.\n",
      "  fig.canvas.print_figure(bytes_io, **kw)\n"
     ]
    },
    {
     "data": {
      "image/png": "[encoded data removed]",
      "text/plain": [
       "<Figure size 1296x864 with 3 Axes>"
      ]
     },
     "metadata": {
      "needs_background": "light"
     },
     "output_type": "display_data"
    }
   ],
   "source": [
    "# 한남대교의 결과 그래프 확인\n",
    "plt.figure(figsize=(18, 12))\n",
    "plt.subplot(231)\n",
    "plt.plot(hannam_month_4.mean())\n",
    "print(hannam_month_4.mean().plot.bar())\n",
    "plt.subplot(232)\n",
    "plt.plot(hannam_month_5.mean())\n",
    "print(hannam_month_5.mean().plot.bar())\n",
    "plt.subplot(233)\n",
    "plt.plot(hannam.mean())\n",
    "print(hannam.mean().plot.bar())"
   ]
  },
  {
   "cell_type": "code",
   "execution_count": 70,
   "metadata": {},
   "outputs": [
    {
     "name": "stdout",
     "output_type": "stream",
     "text": [
      "8시     512.214286\n",
      "9시     418.428571\n",
      "10시    444.500000\n",
      "dtype: float64\n",
      "8시     522.071429\n",
      "9시     458.785714\n",
      "10시    493.785714\n",
      "dtype: float64\n",
      "8시     3132.30\n",
      "9시     2983.60\n",
      "10시    2880.75\n",
      "dtype: float64\n"
     ]
    }
   ],
   "source": [
    "# 잠수교의 결과 확인\n",
    "print(jamsu_month_4.mean())\n",
    "print(jamsu_month_5.mean())\n",
    "print(jamsu.mean())"
   ]
  },
  {
   "cell_type": "code",
   "execution_count": 71,
   "metadata": {},
   "outputs": [
    {
     "name": "stdout",
     "output_type": "stream",
     "text": [
      "AxesSubplot(0.125,0.536818;0.227941x0.343182)\n",
      "AxesSubplot(0.398529,0.536818;0.227941x0.343182)\n",
      "AxesSubplot(0.672059,0.536818;0.227941x0.343182)\n"
     ]
    },
    {
     "name": "stderr",
     "output_type": "stream",
     "text": [
      "/Users/zaewoo/miniforge3/envs/workspace/lib/python3.8/site-packages/IPython/core/pylabtools.py:151: UserWarning: Glyph 49884 (\\N{HANGUL SYLLABLE SI}) missing from current font.\n",
      "  fig.canvas.print_figure(bytes_io, **kw)\n"
     ]
    },
    {
     "data": {
      "image/png": "[encoded data removed]",
      "text/plain": [
       "<Figure size 1296x864 with 3 Axes>"
      ]
     },
     "metadata": {
      "needs_background": "light"
     },
     "output_type": "display_data"
    }
   ],
   "source": [
    "# 잠수교의 결과 그래프 확인\n",
    "plt.figure(figsize=(18, 12))\n",
    "plt.subplot(231)\n",
    "plt.plot(jamsu_month_4.mean())\n",
    "print(jamsu_month_4.mean().plot.bar())\n",
    "plt.subplot(232)\n",
    "plt.plot(jamsu_month_5.mean())\n",
    "print(jamsu_month_5.mean().plot.bar())\n",
    "plt.subplot(233)\n",
    "plt.plot(jamsu.mean())\n",
    "print(jamsu.mean().plot.bar())"
   ]
  }
 ],
 "metadata": {
  "kernelspec": {
   "display_name": "Python 3.8.13 ('workspace')",
   "language": "python",
   "name": "python3"
  },
  "language_info": {
   "codemirror_mode": {
    "name": "ipython",
    "version": 3
   },
   "file_extension": ".py",
   "mimetype": "text/x-python",
   "name": "python",
   "nbconvert_exporter": "python",
   "pygments_lexer": "ipython3",
   "version": "3.8.13"
  },
  "orig_nbformat": 4,
  "vscode": {
   "interpreter": {
    "hash": "8bea183450d7cf8a2b3c53154ad8f0f125116e7c7c1dc9990ddd4f03ccd47efe"
   }
  }
 },
 "nbformat": 4,
 "nbformat_minor": 2
}
